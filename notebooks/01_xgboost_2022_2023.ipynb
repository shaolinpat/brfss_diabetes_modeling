{
 "cells": [
  {
   "cell_type": "markdown",
   "id": "125b5aeb",
   "metadata": {},
   "source": [
    "# 1. Logistic Regression (2019–2023)\n",
    "\n",
    "## 1.1 Data Loading and Feature Prep\n",
    "\n",
    "## 1.2 Train/Test Split\n",
    "\n",
    "## 1.3 Train and Evaluate Logistic Regression\n",
    "\n",
    "### 1.3.1 Why SMOTE? Addressing Class Imbalance\n",
    "\n",
    "## 1.4 F2-Optimized Threshold\n",
    "\n",
    "## 1.5 Summary: Logistic Regression Performance\n",
    "\n",
    "---\n",
    "\n",
    "# 2. XGBoost (2019–2023): Direct Comparison\n",
    "\n",
    "We now apply **XGBoost** to the same 2019–2023 dataset used in Section 1. XGBoost is a tree-based gradient boosting algorithm that can:\n",
    "\n",
    "- Capture non-linear relationships  \n",
    "- Model feature interactions automatically  \n",
    "- Handle class imbalance (e.g., via `scale_pos_weight`)\n",
    "\n",
    "As before, we use **SMOTE** to oversample the minority class and optimize our decision threshold using the **F2 score**, which emphasizes **recall** — crucial for detecting diabetes cases.\n",
    "\n",
    "This section allows a **head-to-head comparison** of logistic regression and XGBoost on identical data and preprocessing pipelines.\n",
    "\n",
    "## 2.1 Train with SMOTE\n",
    "\n",
    "## 2.2 Evaluate XGBoost Performance (F2 Optimization)\n",
    "\n",
    "## 2.3 Summary: XGBoost vs Logistic Regression\n",
    "\n",
    "---\n",
    "\n",
    "# 3. XGBoost (2022–2023): Focused Modeling and Tuning\n",
    "\n",
    "## 3.1 Why Focus on 2022–2023?\n",
    "\n",
    "## 3.2 Feature Selection and Engineering\n",
    "\n",
    "## 3.3 Hyperparameter Tuning\n",
    "\n",
    "## 3.4 Model Interpretation (e.g., SHAP, TreeExplainer)\n",
    "\n",
    "## 3.5 Final Evaluation and Summary\n"
   ]
  },
  {
   "cell_type": "markdown",
   "id": "fe354b1b",
   "metadata": {},
   "source": [
    "## 1. Comparing XGBoost vs. Logistic Regression (2019–2023)"
   ]
  },
  {
   "cell_type": "markdown",
   "id": "dc2eb7ed",
   "metadata": {},
   "source": [
    "# 1. Logistric Regression (2019–2023)"
   ]
  },
  {
   "cell_type": "markdown",
   "id": "1bd992d8",
   "metadata": {},
   "source": [
    "In our previous notebook, we built a baseline model using **logistic regression** to predict diabetes risk from BRFSS data. Logistic regression is fast, interpretable, and a common starting point — but it struggled to detect diabetes cases accurately due to class imbalance and limited model flexibility.\n",
    "\n",
    "In this notebook, we begin by applying **XGBoost** to the **same 2019–2023 dataset**, allowing for a **direct comparison**. Unlike logistic regression, XGBoost is a gradient-boosted decision tree model that can:\n",
    "\n",
    "- Capture non-linear relationships\n",
    "- Handle feature interactions automatically\n",
    "- Deal more effectively with imbalanced classes (e.g., with `scale_pos_weight`)\n",
    "\n",
    "By comparing these two models head-to-head, we can assess whether a more sophisticated algorithm offers meaningful performance gains — particularly in **recall for the minority class (diabetes cases)**.\n",
    "\n",
    "Once we’ve made this comparison, we’ll switch to a **cleaner 2022–2023 subset** for further feature engineering, hyperparameter tuning, and interpretability analysis.\n",
    "\n",
    "Let’s begin by loading the same data and training both models."
   ]
  },
  {
   "cell_type": "code",
   "execution_count": 1,
   "id": "87fefb3c",
   "metadata": {},
   "outputs": [],
   "source": [
    "%matplotlib inline\n",
    "\n",
    "import matplotlib.pyplot as plt\n",
    "import numpy as np\n",
    "import os\n",
    "import pandas as pd\n",
    "import seaborn as sns\n",
    "import sys\n",
    "import time\n",
    "import xgboost as xgb\n",
    "\n",
    "from imblearn.over_sampling import SMOTE\n",
    "from pathlib import Path\n",
    "from sklearn.linear_model import LogisticRegression\n",
    "from sklearn.metrics import (\n",
    "    classification_report,\n",
    "    confusion_matrix,\n",
    "    ConfusionMatrixDisplay,\n",
    "    precision_recall_curve,\n",
    ")\n",
    "from sklearn.model_selection import train_test_split\n",
    "from xgboost import XGBClassifier\n",
    "\n",
    "# Custom project imports (same as Notebook 00)\n",
    "from brfss_diabetes.io import load_all_years\n",
    "from brfss_diabetes.preprocessing import prepare_common_features\n",
    "from brfss_diabetes.evaluation import find_optimal_threshold, plot_classification_report"
   ]
  },
  {
   "cell_type": "code",
   "execution_count": 2,
   "id": "29139a73",
   "metadata": {},
   "outputs": [],
   "source": [
    "# Globals\n",
    "SEED = 22\n",
    "start_time = time.time()\n",
    "\n",
    "# Set paths\n",
    "image_dir = Path(\"..\") / \"images\"\n",
    "reports_dir = Path(\"..\") / \"reports\"\n",
    "data_dir = Path(\"..\") / \"data/cleaned\"\n",
    "\n",
    "# Ensure that output directories exist\n",
    "os.makedirs(image_dir, exist_ok=True)\n",
    "os.makedirs(reports_dir, exist_ok=True)"
   ]
  },
  {
   "cell_type": "markdown",
   "id": "3c9e9f1f",
   "metadata": {},
   "source": [
    "## 1.1 Data Loading and Feature Prep"
   ]
  },
  {
   "cell_type": "markdown",
   "id": "c958ab90",
   "metadata": {},
   "source": [
    "While the BRFSS dataset contains many features, not all are consistently available or complete across the 2019–2023 survey years. For modeling purposes, we restrict our focus to a core set of features that:\n",
    "\n",
    "- Appear in all five years,\n",
    "- Have acceptable levels of missingness,\n",
    "- Are relevant for modeling diabetes risk.\n",
    "\n",
    "The selected `common_features` below meet these criteria and will be used in subsequent modeling steps."
   ]
  },
  {
   "cell_type": "code",
   "execution_count": 3,
   "id": "c4993501",
   "metadata": {},
   "outputs": [
    {
     "name": "stdout",
     "output_type": "stream",
     "text": [
      "[Local] Loading from: ../data/cleaned/brfss_cleaned_2019.csv\n",
      "[Local] Loading from: ../data/cleaned/brfss_cleaned_2020.csv\n",
      "[Local] Loading from: ../data/cleaned/brfss_cleaned_2021.csv\n",
      "[Local] Loading from: ../data/cleaned/brfss_cleaned_2022.csv\n",
      "[Local] Loading from: ../data/cleaned/brfss_cleaned_2023.csv\n"
     ]
    }
   ],
   "source": [
    "# Use only features common to all years\n",
    "common_features = [\"age\", \"sex\", \"educa\", \"bmi\", \"bmi_cat\", \"smoke_100\", \"exercise_any\"]\n",
    "\n",
    "# Load and prepare data\n",
    "years = [2019, 2020, 2021, 2022, 2023]\n",
    "df_all = load_all_years(years)"
   ]
  },
  {
   "cell_type": "code",
   "execution_count": 4,
   "id": "ff6573de",
   "metadata": {},
   "outputs": [
    {
     "name": "stdout",
     "output_type": "stream",
     "text": [
      "(1842899, 12)\n",
      "    age    bmi  smoke_100  exercise_any  diabetes  sex_Male  educa_HS or GED  \\\n",
      "0  85.0  28.17          1             0         0     False            False   \n",
      "1  72.0  18.54          0             1         0     False            False   \n",
      "2  67.0  31.62          0             1         1     False            False   \n",
      "4  85.0  21.48          1             0         0     False            False   \n",
      "6  72.0  32.98          1             1         1      True            False   \n",
      "\n",
      "   educa_Less than HS  educa_Some college  bmi_cat_Obese  bmi_cat_Overweight  \\\n",
      "0                True               False          False                True   \n",
      "1               False                True          False               False   \n",
      "2               False               False           True               False   \n",
      "4               False                True          False               False   \n",
      "6               False               False           True               False   \n",
      "\n",
      "   bmi_cat_Underweight  \n",
      "0                False  \n",
      "1                False  \n",
      "2                False  \n",
      "4                False  \n",
      "6                False  \n",
      "\n",
      "Any NaNs in X? False\n"
     ]
    }
   ],
   "source": [
    "df_common = prepare_common_features(df_all, common_features)\n",
    "\n",
    "print(df_common.shape)\n",
    "print(df_common.head())\n",
    "print(\"\\nAny NaNs in X?\", df_common.drop(columns=[\"diabetes\"]).isna().any().any())"
   ]
  },
  {
   "cell_type": "markdown",
   "id": "efad20bc",
   "metadata": {},
   "source": [
    "## 1.2 Train/Test Split"
   ]
  },
  {
   "cell_type": "code",
   "execution_count": 5,
   "id": "e70bc469",
   "metadata": {},
   "outputs": [],
   "source": [
    "# Split features and target\n",
    "X_common = df_common.drop(columns=[\"diabetes\"])\n",
    "y_common = df_common[\"diabetes\"]\n",
    "\n",
    "# Train/test split\n",
    "X_train, X_test, y_train, y_test = train_test_split(\n",
    "    X_common, y_common, test_size=0.2, stratify=y_common, random_state=SEED\n",
    ")"
   ]
  },
  {
   "cell_type": "markdown",
   "id": "367ed374",
   "metadata": {},
   "source": [
    "## 1.3 Train and Evaluate Logistic Regression"
   ]
  },
  {
   "cell_type": "markdown",
   "id": "d623994a",
   "metadata": {},
   "source": [
    "Before comparing against XGBoost, we replicate the logistic regression pipeline from Notebook 00 — including **SMOTE**, which helps handle class imbalance in the training data."
   ]
  },
  {
   "cell_type": "markdown",
   "id": "714f9edd",
   "metadata": {},
   "source": [
    "### 1.3.1 Why SMOTE? Addressing Class Imbalance"
   ]
  },
  {
   "cell_type": "markdown",
   "id": "fa08aaef",
   "metadata": {},
   "source": [
    "In this dataset, only about **1 in 7** individuals reported being told they had diabetes — a clear case of **class imbalance**. Models trained on imbalanced data often become biased toward predicting the majority class (“No diabetes”), which can result in:\n",
    "\n",
    "- High overall accuracy,\n",
    "- But **poor recall** for the minority class (“Diabetes”).\n",
    "\n",
    "To mitigate this, we apply **SMOTE** (Synthetic Minority Over-sampling Technique) to the **training set only**. SMOTE creates **synthetic samples** of the minority class by interpolating between existing cases, helping the model learn decision boundaries that better reflect both classes.\n",
    "\n",
    "This ensures a fair comparison between logistic regression and XGBoost under the same conditions — allowing us to isolate the benefits of the more complex model architecture.\n",
    "\n",
    "We now apply SMOTE *after* splitting to avoid any data leakage."
   ]
  },
  {
   "cell_type": "code",
   "execution_count": 6,
   "id": "936b0dd8",
   "metadata": {},
   "outputs": [
    {
     "name": "stdout",
     "output_type": "stream",
     "text": [
      "Before SMOTE y_train counts:\n",
      "diabetes\n",
      "0    1261433\n",
      "1     212886\n",
      "Name: count, dtype: int64\n",
      "\n",
      "After SMOTE y_resampled counts:\n",
      "diabetes\n",
      "0    1261433\n",
      "1    1261433\n",
      "Name: count, dtype: int64\n"
     ]
    }
   ],
   "source": [
    "# Print class distribution before resampling\n",
    "print(f\"Before SMOTE y_train counts:\\n{y_train.value_counts()}\\n\")\n",
    "\n",
    "# Apply SMOTE to training data only (to avoid data leakage)\n",
    "smote = SMOTE(random_state=SEED)\n",
    "X_resampled, y_resampled = smote.fit_resample(X_train, y_train)\n",
    "\n",
    "# Train logistic regression with balanced class weights\n",
    "model = LogisticRegression(max_iter=1000, class_weight=\"balanced\")\n",
    "model.fit(X_resampled, y_resampled)\n",
    "\n",
    "# Predict on original (imbalanced) test set\n",
    "y_pred = model.predict(X_test)\n",
    "\n",
    "# Print class distribution after SMOTE\n",
    "print(f\"After SMOTE y_resampled counts:\\n{y_resampled.value_counts()}\")"
   ]
  },
  {
   "cell_type": "markdown",
   "id": "752968e6",
   "metadata": {},
   "source": [
    "## 1.4 F2-Optimized Threshold"
   ]
  },
  {
   "cell_type": "markdown",
   "id": "e5809fcd",
   "metadata": {},
   "source": [
    "To fairly compare XGBoost against our earlier baseline, we first replicate the logistic regression model on the same 2019–2023 data.\n",
    "\n",
    "This model was trained using SMOTE to handle class imbalance (as explained in Notebook 00), and evaluated under multiple decision thresholds:\n",
    "- **Balanced (threshold ≈ 0.68)**\n",
    "- **F2 score optimized (threshold ≈ 0.41)** – favors **recall**\n",
    "- **F0.5 score optimized (threshold ≈ 0.69)** – favors **precision**\n",
    "\n",
    "We summarize logistic regression’s classification performance below as a reference point before training XGBoost."
   ]
  },
  {
   "cell_type": "code",
   "execution_count": 7,
   "id": "1356148e",
   "metadata": {},
   "outputs": [
    {
     "name": "stdout",
     "output_type": "stream",
     "text": [
      "Best F2 threshold: 0.40556\n"
     ]
    }
   ],
   "source": [
    "# Predict probabilities for the positive class\n",
    "y_probs = model.predict_proba(X_test)[:, 1]\n",
    "\n",
    "# Calculate precision-recall pairs for all thresholds\n",
    "precision, recall, thresholds = precision_recall_curve(y_test, y_probs)\n",
    "\n",
    "# Find threshold that maximizes F2 score (recall emphasis)\n",
    "beta = 2 \n",
    "f2_scores = (1 + beta**2) * (precision[:-1] * recall[:-1]) / (beta**2 * precision[:-1] + recall[:-1] + 1e-8)\n",
    "f2_idx = np.argmax(f2_scores)\n",
    "f2_threshold = thresholds[f2_idx]\n",
    "print(f\"Best F2 threshold: {f2_threshold:.5f}\")"
   ]
  },
  {
   "cell_type": "code",
   "execution_count": 8,
   "id": "c15b30a5",
   "metadata": {},
   "outputs": [
    {
     "data": {
      "image/png": "[encoded data removed]",
      "text/plain": [
       "<Figure size 800x380 with 1 Axes>"
      ]
     },
     "metadata": {},
     "output_type": "display_data"
    }
   ],
   "source": [
    "# Define threshold and predictions first\n",
    "threshold_val = f2_threshold\n",
    "y_pred_f2 = (y_probs >= threshold_val).astype(int)\n",
    "\n",
    "report_dict = classification_report(y_test, y_pred_f2, output_dict=True)\n",
    "df = pd.DataFrame(report_dict).transpose()\n",
    "\n",
    "# Format row labels with support counts\n",
    "df.rename(index={\"0\": \"No Diabetes\", \"1\": \"Diabetes\"}, inplace=True)\n",
    "supports = df.loc[[\"No Diabetes\", \"Diabetes\"], \"support\"].dropna().astype(int).map(\"{:,}\".format)\n",
    "row_labels = {\n",
    "    label: f\"{label}\\n(n = {supports[label]})\"\n",
    "    for label in [\"No Diabetes\", \"Diabetes\"]\n",
    "}\n",
    "row_labels[\"accuracy\"] = \"accuracy\"\n",
    "row_labels[\"macro avg\"] = \"macro avg\"\n",
    "row_labels[\"weighted avg\"] = \"weighted avg\"\n",
    "\n",
    "# Select rows and metrics\n",
    "rows_to_plot = [\"No Diabetes\", \"Diabetes\", \"accuracy\", \"macro avg\", \"weighted avg\"]\n",
    "metrics = df.loc[rows_to_plot, [\"precision\", \"recall\", \"f1-score\"]].round(2)\n",
    "row_label_list = [row_labels[r] for r in rows_to_plot]\n",
    "\n",
    "# Plot\n",
    "fig, ax = plt.subplots(figsize=(8, 3.8))\n",
    "sns.heatmap(metrics, annot=True, fmt=\".2f\", cmap=\"YlGnBu\", cbar=False,\n",
    "            linewidths=0.5, linecolor=\"gray\", ax=ax,\n",
    "            xticklabels=[\"Precision\", \"Recall\", \"F1-Score\"],\n",
    "            yticklabels=row_label_list)\n",
    "\n",
    "ax.set_yticklabels(ax.get_yticklabels(), rotation=0)\n",
    "plt.title(f\"Classification Report (F2 threshold = {threshold_val:.5f})\", fontsize=12, pad=10)\n",
    "plt.tight_layout()\n",
    "plt.savefig(image_dir / \"01_classification_report_f2.png\", dpi=300)\n",
    "plt.show()"
   ]
  },
  {
   "cell_type": "markdown",
   "id": "2c951961",
   "metadata": {},
   "source": [
    "This heatmap shows model performance using the threshold that **maximizes the F2 score**, which gives **extra weight to recall**:\n",
    "\n",
    "- The model correctly identifies **84% of actual diabetes cases** (recall), a major gain compared to the ~35% at the balanced threshold.\n",
    "- However, **precision drops to 22%** — most positive predictions are false alarms.\n",
    "- For the **No Diabetes** class, precision remains high at **95%**, but recall falls to 51% — many are incorrectly flagged as diabetic.\n",
    "- **Overall accuracy falls to 56%**, but this is expected: we’ve sacrificed precision and accuracy in order to **catch more true positives**.\n",
    "\n",
    "This setting is ideal for **screening scenarios** where **missing real cases is riskier** than issuing false positives — for example, early-stage population health interventions."
   ]
  },
  {
   "cell_type": "code",
   "execution_count": 9,
   "id": "0408c984",
   "metadata": {},
   "outputs": [
    {
     "data": {
      "image/png": "[encoded data removed]",
      "text/plain": [
       "<Figure size 640x480 with 2 Axes>"
      ]
     },
     "metadata": {},
     "output_type": "display_data"
    }
   ],
   "source": [
    "# Confusion matrix at F2 threshold\n",
    "cm = confusion_matrix(y_test, y_pred_f2, normalize=\"true\")\n",
    "disp = ConfusionMatrixDisplay(confusion_matrix=cm, display_labels=[\"No Diabetes\", \"Diabetes\"])\n",
    "disp.plot(cmap=\"Blues\")\n",
    "plt.title(f\"Confusion Matrix (F2 threshold = {threshold_val:.5f})\")\n",
    "plt.grid(False)\n",
    "plt.savefig(image_dir / \"01_confusion_matrix_f2.png\", dpi=300)\n",
    "plt.show()"
   ]
  },
  {
   "cell_type": "markdown",
   "id": "22967c21",
   "metadata": {},
   "source": [
    "This confusion matrix shows the model’s performance using the **F2-optimized threshold**, which emphasizes **recall** — prioritizing the identification of as many true diabetes cases as possible.\n",
    "\n",
    "- Of all actual diabetes cases (bottom row), **84% were correctly identified** (true positives), while **16% were missed** (false negatives).\n",
    "- Among people without diabetes (top row), the model incorrectly flagged **49% as diabetic** (false positives), reflecting the trade-off in precision.\n",
    "\n",
    "This threshold may be appropriate for **screening scenarios**, where **missing true cases** is more costly than generating some **false alarms**."
   ]
  },
  {
   "cell_type": "markdown",
   "id": "685e8467",
   "metadata": {},
   "source": [
    "## 1.5 Summary: Logistic Regression Performance (2019–2023)"
   ]
  },
  {
   "cell_type": "markdown",
   "id": "3111b916",
   "metadata": {},
   "source": [
    "Below is the classification performance of our logistic regression model under different decision thresholds. These highlight the tradeoffs between **precision** and **recall**, especially for the minority class (diabetes):\n",
    "\n",
    "| Strategy             | Precision (Diabetes) | Recall (Diabetes) | Use Case                                        |\n",
    "|----------------------|----------------------|--------------------|-------------------------------------------------|\n",
    "| **Balanced (Precision = Recall)** | ~0.35                | ~0.35              | Equal weight to false positives/negatives       |\n",
    "| **Recall-Weighted (F2) **     | ~0.22                | **~0.84**          | Emphasize **recall** — early screening          |\n",
    "| **Precision-Weighted (F0.5)**   | **~0.35**            | ~0.34              | Emphasize **precision** — expensive follow-up   |\n",
    "\n",
    "We will now apply **XGBoost** to this same dataset to evaluate whether a tree-based model can achieve better recall while maintaining usable precision."
   ]
  },
  {
   "cell_type": "markdown",
   "id": "db4e3da0",
   "metadata": {},
   "source": [
    "### Confusion Matrix Summary (Logistic Regression)\n",
    "\n",
    "| Threshold Type         |   TN (No Diabetes) |   FP (No Diabetes) |   FN (Diabetes) |   TP (Diabetes) |   Recall (Diabetes) |   Precision (Diabetes) |\n",
    "|------------------------|--------------------|---------------------|------------------|------------------|----------------------|-------------------------|\n",
    "| Balanced (Precision = Recall)      |               0.89 |                0.11 |             0.65 |             0.35 |                 0.35 |                   0.35 |\n",
    "| Recall-Weighted (F2)   |               0.51 |                0.49 |             0.16 |             0.84 |                 0.84 |                   0.22 |\n",
    "| Precision-Weighted (F0.5) |           0.89 |                0.11 |             0.66 |             0.34 |                 0.34 |                   0.89 |\n"
   ]
  },
  {
   "cell_type": "markdown",
   "id": "0f001ef7",
   "metadata": {},
   "source": [
    "# 2. XGBoost (2019–2023): Direct Comparison"
   ]
  },
  {
   "cell_type": "markdown",
   "id": "7d846b63",
   "metadata": {},
   "source": [
    "We now apply **XGBoost** to the same 2019–2023 dataset used in Section 1. XGBoost is a tree-based gradient boosting algorithm that can:\n",
    "\n",
    "- Capture non-linear relationships  \n",
    "- Model feature interactions automatically  \n",
    "- Handle class imbalance (e.g., via `scale_pos_weight`)\n",
    "\n",
    "As before, we use **SMOTE** to oversample the minority class and optimize our decision threshold using the **F2 score**, which emphasizes **recall** — crucial for detecting diabetes cases.\n",
    "\n",
    "This section allows a **head-to-head comparison** of logistic regression and XGBoost on identical data and preprocessing pipelines."
   ]
  },
  {
   "cell_type": "markdown",
   "id": "04c2012a",
   "metadata": {},
   "source": [
    "## 2.1 Train with SMOTE"
   ]
  },
  {
   "cell_type": "markdown",
   "id": "e4bde999",
   "metadata": {},
   "source": [
    "We apply **SMOTE (Synthetic Minority Over-sampling Technique)** to the training data before fitting our **XGBoost** model. Just like with logistic regression, SMOTE helps the model better detect diabetes cases in an imbalanced dataset by creating synthetic examples of the minority class.\n",
    "\n",
    "While XGBoost can also handle imbalance using `scale_pos_weight`, SMOTE gives us consistent treatment across models for a fair comparison."
   ]
  },
  {
   "cell_type": "code",
   "execution_count": 10,
   "id": "e6bbc04b",
   "metadata": {},
   "outputs": [
    {
     "name": "stdout",
     "output_type": "stream",
     "text": [
      "Before SMOTE y_train counts:\n",
      "diabetes\n",
      "0    1261433\n",
      "1     212886\n",
      "Name: count, dtype: int64\n",
      "\n",
      "After SMOTE y_resampled counts:\n",
      "diabetes\n",
      "0    1261433\n",
      "1    1261433\n",
      "Name: count, dtype: int64\n"
     ]
    }
   ],
   "source": [
    "# Print class distribution before resampling\n",
    "print(f\"Before SMOTE y_train counts:\\n{y_train.value_counts()}\\n\")\n",
    "\n",
    "# Apply SMOTE to training data only\n",
    "smote = SMOTE(random_state=SEED)\n",
    "X_resampled, y_resampled = smote.fit_resample(X_train, y_train)\n",
    "\n",
    "# Print class distribution after SMOTE\n",
    "print(f\"After SMOTE y_resampled counts:\\n{y_resampled.value_counts()}\")"
   ]
  },
  {
   "cell_type": "markdown",
   "id": "388ab409",
   "metadata": {},
   "source": [
    "### 2.1.1 Train XGBoost Model"
   ]
  },
  {
   "cell_type": "markdown",
   "id": "9649e56f",
   "metadata": {},
   "source": [
    "We now train the XGBoost classifier on the SMOTE-resampled training set.\n",
    "\n",
    "Key settings:\n",
    "- `scale_pos_weight=1`: Disabled because SMOTE has already balanced the classes\n",
    "- `eval_metric=\"logloss\"`: Tracks classification loss during training\n",
    "- `use_label_encoder=False`: Avoids deprecation warnings"
   ]
  },
  {
   "cell_type": "code",
   "execution_count": 11,
   "id": "fa1faff2",
   "metadata": {},
   "outputs": [],
   "source": [
    "# Define and train XGBoost model\n",
    "model_xgb = xgb.XGBClassifier(\n",
    "    random_state=SEED,\n",
    "    eval_metric=\"logloss\",\n",
    "    scale_pos_weight=1,\n",
    "    n_jobs=-1\n",
    ")\n",
    "\n",
    "model_xgb.fit(X_resampled, y_resampled);"
   ]
  },
  {
   "cell_type": "markdown",
   "id": "f6f6ac0e",
   "metadata": {},
   "source": [
    "### 2.1.2 Predict Probabilities and Tune Threshold"
   ]
  },
  {
   "cell_type": "markdown",
   "id": "f7643385",
   "metadata": {},
   "source": [
    "To evaluate XGBoost, we begin by predicting probabilities for the **positive class** (diabetes = 1). Rather than relying on the default threshold of 0.5, we compute **precision** and **recall** across a range of thresholds using `precision_recall_curve`.\n",
    "\n",
    "We then select the threshold that **maximizes the F2 score**, which emphasizes **recall** — especially important for identifying as many true diabetes cases as possible.\n",
    "\n",
    "This mirrors our logistic regression workflow to ensure a fair comparison."
   ]
  },
  {
   "cell_type": "code",
   "execution_count": 12,
   "id": "6c30b444",
   "metadata": {},
   "outputs": [
    {
     "name": "stdout",
     "output_type": "stream",
     "text": [
      "Best F2 threshold for XGBoost: 0.40556\n"
     ]
    }
   ],
   "source": [
    "# Predict probabilities for the positive class\n",
    "y_probs_xgb = model.predict_proba(X_test)[:, 1]\n",
    "\n",
    "# Compute precision-recall pairs for all thresholds\n",
    "precision_xgb, recall_xgb, thresholds_xgb = precision_recall_curve(y_test, y_probs_xgb)\n",
    "\n",
    "# Find threshold that maximizes F2 score\n",
    "beta = 2\n",
    "f2_scores_xgb = (1 + beta**2) * (precision_xgb[:-1] * recall_xgb[:-1]) / (\n",
    "    beta**2 * precision_xgb[:-1] + recall_xgb[:-1] + 1e-8\n",
    ")\n",
    "best_f2_idx = f2_scores_xgb.argmax()\n",
    "f2_threshold_xgb = thresholds_xgb[best_f2_idx]\n",
    "\n",
    "print(f\"Best F2 threshold for XGBoost: {f2_threshold_xgb:.5f}\")"
   ]
  },
  {
   "cell_type": "markdown",
   "id": "7452b575",
   "metadata": {},
   "source": [
    "The optimal threshold for the XGBoost model (based on F2 score) is printed above. We'll use this threshold in the next step to evaluate classification performance."
   ]
  },
  {
   "cell_type": "markdown",
   "id": "590cd5f2",
   "metadata": {},
   "source": [
    "### 2.1.3 Classification Report (F2 Threshold)"
   ]
  },
  {
   "cell_type": "markdown",
   "id": "1be98ecf",
   "metadata": {},
   "source": [
    "The heatmap below summarizes the precision, recall, and F1-score for each class when using the **F2-optimized threshold** with XGBoost. This threshold emphasizes recall, which is critical for minimizing missed diabetes cases.\n",
    "\n",
    "We compare these metrics directly with logistic regression to see if XGBoost provides stronger recall **without sacrificing precision entirely**."
   ]
  },
  {
   "cell_type": "code",
   "execution_count": 13,
   "id": "a5e45116",
   "metadata": {},
   "outputs": [
    {
     "data": {
      "image/png": "[encoded data removed]",
      "text/plain": [
       "<Figure size 800x380 with 1 Axes>"
      ]
     },
     "metadata": {},
     "output_type": "display_data"
    }
   ],
   "source": [
    "# Define predictions using F2 threshold\n",
    "y_pred_f2 = (y_probs >= f2_threshold).astype(int)\n",
    "\n",
    "# Generate classification report\n",
    "report_dict = classification_report(y_test, y_pred_f2, output_dict=True)\n",
    "df = pd.DataFrame(report_dict).transpose()\n",
    "\n",
    "# Format row labels with support counts\n",
    "df.rename(index={\"0\": \"No Diabetes\", \"1\": \"Diabetes\"}, inplace=True)\n",
    "supports = df.loc[[\"No Diabetes\", \"Diabetes\"], \"support\"].dropna().astype(int).map(\"{:,}\".format)\n",
    "row_labels = {\n",
    "    label: f\"{label}\\n(n = {supports[label]})\"\n",
    "    for label in [\"No Diabetes\", \"Diabetes\"]\n",
    "}\n",
    "row_labels[\"accuracy\"] = \"accuracy\"\n",
    "row_labels[\"macro avg\"] = \"macro avg\"\n",
    "row_labels[\"weighted avg\"] = \"weighted avg\"\n",
    "\n",
    "# Select rows and metrics\n",
    "rows_to_plot = [\"No Diabetes\", \"Diabetes\", \"accuracy\", \"macro avg\", \"weighted avg\"]\n",
    "metrics = df.loc[rows_to_plot, [\"precision\", \"recall\", \"f1-score\"]].round(2)\n",
    "row_label_list = [row_labels[r] for r in rows_to_plot]\n",
    "\n",
    "# Plot heatmap\n",
    "fig, ax = plt.subplots(figsize=(8, 3.8))\n",
    "sns.heatmap(metrics, annot=True, fmt=\".2f\", cmap=\"YlGnBu\", cbar=False,\n",
    "            linewidths=0.5, linecolor=\"gray\", ax=ax,\n",
    "            xticklabels=[\"Precision\", \"Recall\", \"F1-Score\"],\n",
    "            yticklabels=row_label_list)\n",
    "\n",
    "ax.set_yticklabels(ax.get_yticklabels(), rotation=0)\n",
    "plt.title(f\"XGBoost Classification Report (F2 threshold = {f2_threshold:.5f})\", fontsize=12, pad=10)\n",
    "plt.tight_layout()\n",
    "plt.savefig(image_dir / \"01_classification_report_f2.png\", dpi=300)\n",
    "plt.show()"
   ]
  },
  {
   "cell_type": "markdown",
   "id": "073c57a3",
   "metadata": {},
   "source": [
    "This classification report shows **XGBoost performance with the F2-optimized threshold**, prioritizing **recall** over precision.\n",
    "\n",
    "- **Recall for diabetes** remains high at **84%**, matching logistic regression.\n",
    "- **Precision for diabetes** slightly improves (24% vs. 22%).\n",
    "- The **No Diabetes** class sees slightly better recall (53% vs. 51%).\n",
    "\n",
    "Overall, XGBoost matches logistic regression's sensitivity (recall) but offers **modest improvements in precision and class balance**."
   ]
  },
  {
   "cell_type": "markdown",
   "id": "c7c98431",
   "metadata": {},
   "source": [
    "### 2.1.4 Confusion Matrix (F2 Threshold)"
   ]
  },
  {
   "cell_type": "markdown",
   "id": "71459d70",
   "metadata": {},
   "source": [
    "This confusion matrix shows the XGBoost model’s predictions using the **F2-optimized threshold**, which emphasizes **recall** for the diabetes class.\n",
    "\n",
    "- Of all actual diabetes cases (bottom row), **84% were correctly flagged**, indicating high recall.\n",
    "- However, **47% of non-diabetics were misclassified**, demonstrating the precision-recall trade-off.\n",
    "\n",
    "This model may be suitable in **clinical screening settings**, where catching more true positives outweighs the cost of false alarms."
   ]
  },
  {
   "cell_type": "code",
   "execution_count": 14,
   "id": "53a54ac7",
   "metadata": {},
   "outputs": [
    {
     "data": {
      "image/png": "[encoded data removed]",
      "text/plain": [
       "<Figure size 600x500 with 2 Axes>"
      ]
     },
     "metadata": {},
     "output_type": "display_data"
    }
   ],
   "source": [
    "# Confusion matrix using F2 threshold\n",
    "cm = confusion_matrix(y_test, y_pred_f2, normalize=\"true\")\n",
    "labels = [\"No Diabetes\", \"Diabetes\"]\n",
    "\n",
    "fig, ax = plt.subplots(figsize=(6, 5))\n",
    "sns.heatmap(cm, annot=True, fmt=\".2f\", cmap=\"Blues\", xticklabels=labels, yticklabels=labels)\n",
    "plt.xlabel(\"Predicted label\")\n",
    "plt.ylabel(\"True label\")\n",
    "plt.title(f\"XGBoost Confusion Matrix (F2 threshold = {f2_threshold:.5f})\")\n",
    "plt.tight_layout()\n",
    "plt.savefig(image_dir / \"01_confusion_matrix_f2.png\", dpi=300)\n",
    "plt.show()\n"
   ]
  },
  {
   "cell_type": "markdown",
   "id": "ab9349a1",
   "metadata": {},
   "source": [
    "This confusion matrix visualizes XGBoost performance at the **F2-optimal threshold**:\n",
    "\n",
    "- **84% of diabetics** are correctly flagged (bottom right), the same as with logistic regression.\n",
    "- **47% of non-diabetics** are falsely predicted to have diabetes — a bit lower than the 49% seen with logistic regression.\n",
    "\n",
    "This confirms XGBoost retains high recall while slightly **reducing false positives**."
   ]
  },
  {
   "cell_type": "markdown",
   "id": "d917d115",
   "metadata": {},
   "source": [
    "### 2.2 Summary: XGBoost vs Logistic Regression"
   ]
  },
  {
   "cell_type": "markdown",
   "id": "1c608d83",
   "metadata": {},
   "source": [
    "Below is a comparison of **XGBoost** and **Logistic Regression**, both trained on the **2019–2023 dataset**, evaluated at the **F2-optimal threshold** (emphasizing recall for diabetes).\n",
    "\n",
    "#### Classification Performance (Diabetes Class)\n",
    "\n",
    "| Model               | Precision | Recall | F1-Score | Accuracy |\n",
    "|---------------------|-----------|--------|----------|----------|\n",
    "| Logistic Regression | 0.22      | 0.84   | 0.35     | 0.56     |\n",
    "| XGBoost             | **0.24**  | **0.84** | **0.37** | **0.58** |\n",
    "\n",
    "#### Confusion Matrix Breakdown (Normalized)\n",
    "\n",
    "| Model               | TN (No Diabetes) | FP           | FN           | TP (Diabetes) |\n",
    "|---------------------|------------------|--------------|--------------|----------------|\n",
    "| Logistic Regression | 0.51             | 0.49         | 0.16         | 0.84           |\n",
    "| XGBoost             | **0.53**         | **0.47**     | 0.16         | 0.84           |\n",
    "\n",
    "---\n",
    "\n",
    "### Key Takeaways\n",
    "\n",
    "- Both models **capture 84% of actual diabetes cases** — excellent recall.\n",
    "- **XGBoost slightly improves precision** (24% vs. 22%), meaning fewer false positives per true positive.\n",
    "- **Fewer non-diabetics are misclassified** by XGBoost (47% vs. 49%).\n",
    "- **XGBoost delivers modest but consistent gains** across metrics.\n",
    "\n",
    "Although XGBoost is a more powerful model class, its performance is **surprisingly close to logistic regression** in this case. This is likely because:\n",
    "\n",
    "- Our features are already **well-prepared and linearly informative**, reducing the need for complex modeling.\n",
    "- We used **SMOTE** and **threshold tuning** with both models, minimizing differences due to class imbalance.\n",
    "- Logistic regression often performs strongly when the **data is clean and abundant**, as it is here.\n",
    "\n",
    "Still, XGBoost offers advantages for **more complex features**, **shifted time windows**, and **model interpretability**, which we'll explore next.\n",
    "\n",
    "With these findings, we now turn to **focused modeling** using **2022–2023** data, where newer features or shifting population dynamics may alter model behavior.\n"
   ]
  },
  {
   "cell_type": "markdown",
   "id": "75c68ba3",
   "metadata": {},
   "source": [
    "# 3. XGBoost (2022–2023): Focused Modeling and Tuning"
   ]
  },
  {
   "cell_type": "markdown",
   "id": "89ecab86",
   "metadata": {},
   "source": [
    "We now narrow our analysis to the **2022–2023 BRFSS data**, which includes the most recent health and demographic trends. By focusing on these years, we can:\n",
    "\n",
    "- Reduce data drift from earlier years\n",
    "- Include features available only in recent surveys\n",
    "- Enable more targeted hyperparameter tuning and model interpretation\n",
    "\n",
    "In this section, we apply **XGBoost** with a deeper modeling pipeline:\n",
    "- Feature selection\n",
    "- Hyperparameter tuning\n",
    "- Model interpretation (e.g., SHAP)\n",
    "- Final evaluation on the latest data\n",
    "\n",
    "Let’s begin with a quick explanation of *why* we're focusing on this time window."
   ]
  },
  {
   "cell_type": "markdown",
   "id": "b8f233c6",
   "metadata": {},
   "source": [
    "## 3.1 Why Focus on 2022–2023?"
   ]
  },
  {
   "cell_type": "markdown",
   "id": "056d5534",
   "metadata": {},
   "source": [
    "The BRFSS survey spans decades, but survey structure and feature availability can shift year to year. Focusing on just **2022–2023** offers several advantages:\n",
    "\n",
    "- ✅ **Consistent Feature Set**: Some variables used in earlier years are no longer collected, while newer features only appear in recent years.\n",
    "- 🔍 **Relevance**: Data from 2022–2023 better reflects current health behaviors, diagnoses, and access to care — useful for near-term policy or intervention work.\n",
    "- 🧪 **Advanced Modeling**: A smaller, cleaner dataset makes it easier to experiment with additional modeling techniques like hyperparameter tuning or SHAP interpretability.\n",
    "\n",
    "This subset serves as a more **focused test bed** for refining model performance, testing generalizability, and understanding what features drive predictions in the most recent population."
   ]
  },
  {
   "cell_type": "code",
   "execution_count": 15,
   "id": "d82af3e4",
   "metadata": {},
   "outputs": [
    {
     "name": "stdout",
     "output_type": "stream",
     "text": [
      "[Local] Loading from: ../data/cleaned/brfss_cleaned_2022.csv\n",
      "[Local] Loading from: ../data/cleaned/brfss_cleaned_2023.csv\n",
      "Shape: (876384, 12)\n",
      "['year', 'age', 'sex', 'educa', 'bmi', 'bmi_cat', 'drink_any', 'snap_used', 'food_insecurity', 'smoke_100', 'exercise_any', 'diabetes']\n"
     ]
    }
   ],
   "source": [
    "# Define the years of interest\n",
    "recent_years = [2022, 2023]\n",
    "\n",
    "# Load using our existing utility\n",
    "df_recent = load_all_years(recent_years)\n",
    "\n",
    "# Preview shape and columns\n",
    "print(f\"Shape: {df_recent.shape}\")\n",
    "print(df_recent.columns.tolist())"
   ]
  },
  {
   "cell_type": "markdown",
   "id": "001ceb56",
   "metadata": {},
   "source": [
    "### 3.2.2 Feature Engineering: One-Hot Encoding and Final Feature Set"
   ]
  },
  {
   "cell_type": "markdown",
   "id": "d154e288",
   "metadata": {},
   "source": [
    "After filtering and transforming the 2022–2023 data, we one-hot encoded categorical variables such as `sex`, `educa`, and `bmi_cat`. This gives us a clean, numeric feature matrix suitable for modeling with tree-based methods like XGBoost."
   ]
  },
  {
   "cell_type": "code",
   "execution_count": 16,
   "id": "fc7877bf",
   "metadata": {},
   "outputs": [
    {
     "name": "stdout",
     "output_type": "stream",
     "text": [
      "Warning: unexpected value in food_insecurity\n",
      "(430317, 15)\n"
     ]
    },
    {
     "data": {
      "text/html": [
       "<div>\n",
       "<style scoped>\n",
       "    .dataframe tbody tr th:only-of-type {\n",
       "        vertical-align: middle;\n",
       "    }\n",
       "\n",
       "    .dataframe tbody tr th {\n",
       "        vertical-align: top;\n",
       "    }\n",
       "\n",
       "    .dataframe thead th {\n",
       "        text-align: right;\n",
       "    }\n",
       "</style>\n",
       "<table border=\"1\" class=\"dataframe\">\n",
       "  <thead>\n",
       "    <tr style=\"text-align: right;\">\n",
       "      <th></th>\n",
       "      <th>age</th>\n",
       "      <th>bmi</th>\n",
       "      <th>smoke_100</th>\n",
       "      <th>exercise_any</th>\n",
       "      <th>drink_any</th>\n",
       "      <th>snap_used</th>\n",
       "      <th>food_insecurity</th>\n",
       "      <th>diabetes</th>\n",
       "      <th>sex_Male</th>\n",
       "      <th>educa_HS or GED</th>\n",
       "      <th>educa_Less than HS</th>\n",
       "      <th>educa_Some college</th>\n",
       "      <th>bmi_cat_Obese</th>\n",
       "      <th>bmi_cat_Overweight</th>\n",
       "      <th>bmi_cat_Underweight</th>\n",
       "    </tr>\n",
       "  </thead>\n",
       "  <tbody>\n",
       "    <tr>\n",
       "      <th>1</th>\n",
       "      <td>85.0</td>\n",
       "      <td>26.57</td>\n",
       "      <td>0</td>\n",
       "      <td>0</td>\n",
       "      <td>0</td>\n",
       "      <td>0</td>\n",
       "      <td>NaN</td>\n",
       "      <td>0</td>\n",
       "      <td>False</td>\n",
       "      <td>True</td>\n",
       "      <td>False</td>\n",
       "      <td>False</td>\n",
       "      <td>False</td>\n",
       "      <td>True</td>\n",
       "      <td>False</td>\n",
       "    </tr>\n",
       "    <tr>\n",
       "      <th>2</th>\n",
       "      <td>57.0</td>\n",
       "      <td>25.61</td>\n",
       "      <td>0</td>\n",
       "      <td>1</td>\n",
       "      <td>0</td>\n",
       "      <td>0</td>\n",
       "      <td>NaN</td>\n",
       "      <td>0</td>\n",
       "      <td>False</td>\n",
       "      <td>False</td>\n",
       "      <td>False</td>\n",
       "      <td>False</td>\n",
       "      <td>False</td>\n",
       "      <td>True</td>\n",
       "      <td>False</td>\n",
       "    </tr>\n",
       "    <tr>\n",
       "      <th>4</th>\n",
       "      <td>42.0</td>\n",
       "      <td>21.77</td>\n",
       "      <td>0</td>\n",
       "      <td>1</td>\n",
       "      <td>1</td>\n",
       "      <td>0</td>\n",
       "      <td>NaN</td>\n",
       "      <td>0</td>\n",
       "      <td>False</td>\n",
       "      <td>False</td>\n",
       "      <td>False</td>\n",
       "      <td>True</td>\n",
       "      <td>False</td>\n",
       "      <td>False</td>\n",
       "      <td>False</td>\n",
       "    </tr>\n",
       "    <tr>\n",
       "      <th>5</th>\n",
       "      <td>85.0</td>\n",
       "      <td>26.08</td>\n",
       "      <td>0</td>\n",
       "      <td>0</td>\n",
       "      <td>0</td>\n",
       "      <td>0</td>\n",
       "      <td>NaN</td>\n",
       "      <td>1</td>\n",
       "      <td>True</td>\n",
       "      <td>True</td>\n",
       "      <td>False</td>\n",
       "      <td>False</td>\n",
       "      <td>False</td>\n",
       "      <td>True</td>\n",
       "      <td>False</td>\n",
       "    </tr>\n",
       "    <tr>\n",
       "      <th>6</th>\n",
       "      <td>85.0</td>\n",
       "      <td>22.96</td>\n",
       "      <td>1</td>\n",
       "      <td>1</td>\n",
       "      <td>1</td>\n",
       "      <td>0</td>\n",
       "      <td>NaN</td>\n",
       "      <td>0</td>\n",
       "      <td>False</td>\n",
       "      <td>False</td>\n",
       "      <td>False</td>\n",
       "      <td>False</td>\n",
       "      <td>False</td>\n",
       "      <td>False</td>\n",
       "      <td>False</td>\n",
       "    </tr>\n",
       "  </tbody>\n",
       "</table>\n",
       "</div>"
      ],
      "text/plain": [
       "    age    bmi  smoke_100  exercise_any  drink_any  snap_used  \\\n",
       "1  85.0  26.57          0             0          0          0   \n",
       "2  57.0  25.61          0             1          0          0   \n",
       "4  42.0  21.77          0             1          1          0   \n",
       "5  85.0  26.08          0             0          0          0   \n",
       "6  85.0  22.96          1             1          1          0   \n",
       "\n",
       "   food_insecurity  diabetes  sex_Male  educa_HS or GED  educa_Less than HS  \\\n",
       "1              NaN         0     False             True               False   \n",
       "2              NaN         0     False            False               False   \n",
       "4              NaN         0     False            False               False   \n",
       "5              NaN         1      True             True               False   \n",
       "6              NaN         0     False            False               False   \n",
       "\n",
       "   educa_Some college  bmi_cat_Obese  bmi_cat_Overweight  bmi_cat_Underweight  \n",
       "1               False          False                True                False  \n",
       "2               False          False                True                False  \n",
       "4                True          False               False                False  \n",
       "5               False          False                True                False  \n",
       "6               False          False               False                False  "
      ]
     },
     "execution_count": 16,
     "metadata": {},
     "output_type": "execute_result"
    }
   ],
   "source": [
    "# Select the features we want to include\n",
    "selected_features = [\n",
    "    \"age\", \"sex\", \"educa\", \"bmi\", \"bmi_cat\",\n",
    "    \"smoke_100\", \"exercise_any\", \"drink_any\",\n",
    "    \"snap_used\", \"food_insecurity\", \"diabetes\"\n",
    "]\n",
    "\n",
    "# Drop missing values in any of the selected columns\n",
    "df_recent = df_recent.dropna(subset=selected_features)\n",
    "\n",
    "# Keep only selected features\n",
    "df_recent = df_recent[selected_features].copy()\n",
    "\n",
    "# Convert binary columns to 0/1\n",
    "binary_cols = [\"smoke_100\", \"exercise_any\", \"drink_any\", \"snap_used\", \"food_insecurity\", \"diabetes\"]\n",
    "for col in binary_cols:\n",
    "    df_recent[col] = (\n",
    "        df_recent[col]\n",
    "        .astype(str)\n",
    "        .str.strip()\n",
    "        .str.replace('\"', \"\", regex=False)\n",
    "        .map({\"Yes\": 1, \"No\": 0})\n",
    "    )\n",
    "    if df_recent[col].isna().any():\n",
    "        print(f\"Warning: unexpected value in {col}\")\n",
    "\n",
    "# One-hot encode categorical columns\n",
    "df_recent = pd.get_dummies(df_recent, columns=[\"sex\", \"educa\", \"bmi_cat\"], drop_first=True)\n",
    "\n",
    "# Show result\n",
    "print(df_recent.shape)\n",
    "df_recent.head()"
   ]
  },
  {
   "cell_type": "markdown",
   "id": "65e0b2b0",
   "metadata": {},
   "source": [
    "### 3.2.3 Feature Summary and Observations"
   ]
  },
  {
   "cell_type": "markdown",
   "id": "efbc4412",
   "metadata": {},
   "source": [
    "Our engineered feature set now includes:\n",
    "\n",
    "- **Demographics**: `age`, `sex_*`, `educa_*`\n",
    "- **Health**: `bmi`, `bmi_cat_*`, `smoke_100`, `exercise_any`, `drink_any`\n",
    "- **Socioeconomic**: `snap_used`, `food_insecurity`\n",
    "\n",
    "**Note:** The `food_insecurity` column contains missing values (`NaN`) in some rows. We’ll address this in the next step by either imputing missing values or removing the column, depending on its coverage and impact."
   ]
  },
  {
   "cell_type": "markdown",
   "id": "c547f5e4",
   "metadata": {},
   "source": [
    "### 3.2.4 Handling Missing Values"
   ]
  },
  {
   "cell_type": "markdown",
   "id": "b6e0ce22",
   "metadata": {},
   "source": [
    "Upon inspection, the `food_insecurity` column contains missing values. Since it’s an important socioeconomic indicator, we’ll impute missing entries with a placeholder value of `0` (interpreted as \"No\"), assuming respondents who skipped the question may not be food insecure.\n",
    "\n",
    "Alternatively, if the missing rate were too high, we might consider dropping the column entirely."
   ]
  },
  {
   "cell_type": "code",
   "execution_count": 17,
   "id": "e8a3504e",
   "metadata": {},
   "outputs": [
    {
     "name": "stdout",
     "output_type": "stream",
     "text": [
      "Missing values before: 430317\n",
      "Missing values after: 0\n"
     ]
    }
   ],
   "source": [
    "# Check missing values\n",
    "print(\"Missing values before:\", df_recent[\"food_insecurity\"].isna().sum())\n",
    "\n",
    "# Impute missing values with 0 (assumed \"No\")\n",
    "df_recent[\"food_insecurity\"] = df_recent[\"food_insecurity\"].fillna(0)\n",
    "\n",
    "# Confirm fix\n",
    "print(\"Missing values after:\", df_recent[\"food_insecurity\"].isna().sum())\n"
   ]
  },
  {
   "cell_type": "markdown",
   "id": "faa84576",
   "metadata": {},
   "source": [
    "### 3.2.4 Handling Missing Values"
   ]
  },
  {
   "cell_type": "markdown",
   "id": "0c4c4e7f",
   "metadata": {},
   "source": [
    "The `food_insecurity` column in `df_recent` contained over **430,000 missing values**, which would severely impact model training if left unaddressed. Since this variable captures a key socioeconomic factor, we imputed missing entries with a value of `0` (interpreted as \"No\"), assuming that unanswered responses likely indicate non-insecurity.\n",
    "\n",
    "This approach preserves the feature while maintaining consistency in the input space."
   ]
  },
  {
   "cell_type": "code",
   "execution_count": 18,
   "id": "6aec911c",
   "metadata": {},
   "outputs": [
    {
     "data": {
      "text/html": [
       "<div>\n",
       "<style scoped>\n",
       "    .dataframe tbody tr th:only-of-type {\n",
       "        vertical-align: middle;\n",
       "    }\n",
       "\n",
       "    .dataframe tbody tr th {\n",
       "        vertical-align: top;\n",
       "    }\n",
       "\n",
       "    .dataframe thead th {\n",
       "        text-align: right;\n",
       "    }\n",
       "</style>\n",
       "<table border=\"1\" class=\"dataframe\">\n",
       "  <thead>\n",
       "    <tr style=\"text-align: right;\">\n",
       "      <th></th>\n",
       "      <th>age</th>\n",
       "      <th>bmi</th>\n",
       "      <th>smoke_100</th>\n",
       "      <th>exercise_any</th>\n",
       "      <th>drink_any</th>\n",
       "      <th>snap_used</th>\n",
       "      <th>food_insecurity</th>\n",
       "      <th>diabetes</th>\n",
       "      <th>sex_Male</th>\n",
       "      <th>educa_HS or GED</th>\n",
       "      <th>educa_Less than HS</th>\n",
       "      <th>educa_Some college</th>\n",
       "      <th>bmi_cat_Obese</th>\n",
       "      <th>bmi_cat_Overweight</th>\n",
       "      <th>bmi_cat_Underweight</th>\n",
       "    </tr>\n",
       "  </thead>\n",
       "  <tbody>\n",
       "    <tr>\n",
       "      <th>1</th>\n",
       "      <td>85.0</td>\n",
       "      <td>26.57</td>\n",
       "      <td>0</td>\n",
       "      <td>0</td>\n",
       "      <td>0</td>\n",
       "      <td>0</td>\n",
       "      <td>0.0</td>\n",
       "      <td>0</td>\n",
       "      <td>False</td>\n",
       "      <td>True</td>\n",
       "      <td>False</td>\n",
       "      <td>False</td>\n",
       "      <td>False</td>\n",
       "      <td>True</td>\n",
       "      <td>False</td>\n",
       "    </tr>\n",
       "    <tr>\n",
       "      <th>2</th>\n",
       "      <td>57.0</td>\n",
       "      <td>25.61</td>\n",
       "      <td>0</td>\n",
       "      <td>1</td>\n",
       "      <td>0</td>\n",
       "      <td>0</td>\n",
       "      <td>0.0</td>\n",
       "      <td>0</td>\n",
       "      <td>False</td>\n",
       "      <td>False</td>\n",
       "      <td>False</td>\n",
       "      <td>False</td>\n",
       "      <td>False</td>\n",
       "      <td>True</td>\n",
       "      <td>False</td>\n",
       "    </tr>\n",
       "    <tr>\n",
       "      <th>4</th>\n",
       "      <td>42.0</td>\n",
       "      <td>21.77</td>\n",
       "      <td>0</td>\n",
       "      <td>1</td>\n",
       "      <td>1</td>\n",
       "      <td>0</td>\n",
       "      <td>0.0</td>\n",
       "      <td>0</td>\n",
       "      <td>False</td>\n",
       "      <td>False</td>\n",
       "      <td>False</td>\n",
       "      <td>True</td>\n",
       "      <td>False</td>\n",
       "      <td>False</td>\n",
       "      <td>False</td>\n",
       "    </tr>\n",
       "    <tr>\n",
       "      <th>5</th>\n",
       "      <td>85.0</td>\n",
       "      <td>26.08</td>\n",
       "      <td>0</td>\n",
       "      <td>0</td>\n",
       "      <td>0</td>\n",
       "      <td>0</td>\n",
       "      <td>0.0</td>\n",
       "      <td>1</td>\n",
       "      <td>True</td>\n",
       "      <td>True</td>\n",
       "      <td>False</td>\n",
       "      <td>False</td>\n",
       "      <td>False</td>\n",
       "      <td>True</td>\n",
       "      <td>False</td>\n",
       "    </tr>\n",
       "    <tr>\n",
       "      <th>6</th>\n",
       "      <td>85.0</td>\n",
       "      <td>22.96</td>\n",
       "      <td>1</td>\n",
       "      <td>1</td>\n",
       "      <td>1</td>\n",
       "      <td>0</td>\n",
       "      <td>0.0</td>\n",
       "      <td>0</td>\n",
       "      <td>False</td>\n",
       "      <td>False</td>\n",
       "      <td>False</td>\n",
       "      <td>False</td>\n",
       "      <td>False</td>\n",
       "      <td>False</td>\n",
       "      <td>False</td>\n",
       "    </tr>\n",
       "  </tbody>\n",
       "</table>\n",
       "</div>"
      ],
      "text/plain": [
       "    age    bmi  smoke_100  exercise_any  drink_any  snap_used  \\\n",
       "1  85.0  26.57          0             0          0          0   \n",
       "2  57.0  25.61          0             1          0          0   \n",
       "4  42.0  21.77          0             1          1          0   \n",
       "5  85.0  26.08          0             0          0          0   \n",
       "6  85.0  22.96          1             1          1          0   \n",
       "\n",
       "   food_insecurity  diabetes  sex_Male  educa_HS or GED  educa_Less than HS  \\\n",
       "1              0.0         0     False             True               False   \n",
       "2              0.0         0     False            False               False   \n",
       "4              0.0         0     False            False               False   \n",
       "5              0.0         1      True             True               False   \n",
       "6              0.0         0     False            False               False   \n",
       "\n",
       "   educa_Some college  bmi_cat_Obese  bmi_cat_Overweight  bmi_cat_Underweight  \n",
       "1               False          False                True                False  \n",
       "2               False          False                True                False  \n",
       "4                True          False               False                False  \n",
       "5               False          False                True                False  \n",
       "6               False          False               False                False  "
      ]
     },
     "execution_count": 18,
     "metadata": {},
     "output_type": "execute_result"
    }
   ],
   "source": [
    "df_recent.head()"
   ]
  },
  {
   "cell_type": "markdown",
   "id": "630aa547",
   "metadata": {},
   "source": [
    "### 3.2.5 Final Feature Preparation"
   ]
  },
  {
   "cell_type": "markdown",
   "id": "37ba28b2",
   "metadata": {},
   "source": [
    "We now finalize the dataset for modeling by:\n",
    "\n",
    "- Separating the features and target,\n",
    "- Creating a stratified train/test split, and\n",
    "- Applying SMOTE to the training set.\n",
    "\n",
    "This ensures consistent handling of class imbalance while preserving generalization to unseen data."
   ]
  },
  {
   "cell_type": "code",
   "execution_count": 19,
   "id": "ceadbae9",
   "metadata": {},
   "outputs": [
    {
     "name": "stdout",
     "output_type": "stream",
     "text": [
      "Original training shape: (344253, 14)\n",
      "Resampled training shape: (585886, 14)\n",
      "y_resampled value counts:\n",
      "diabetes\n",
      "0    292943\n",
      "1    292943\n",
      "Name: count, dtype: int64\n"
     ]
    }
   ],
   "source": [
    "# Define features and target\n",
    "X_recent = df_recent.drop(columns=[\"diabetes\"])\n",
    "y_recent = df_recent[\"diabetes\"]\n",
    "\n",
    "# Train/test split (stratified to preserve class ratio)\n",
    "X_train, X_test, y_train, y_test = train_test_split(\n",
    "    X_recent, y_recent, test_size=0.2, stratify=y_recent, random_state=SEED\n",
    ")\n",
    "\n",
    "# Apply SMOTE to balance training set\n",
    "smote = SMOTE(random_state=SEED)\n",
    "X_resampled, y_resampled = smote.fit_resample(X_train, y_train)\n",
    "\n",
    "# Confirm shape and balance\n",
    "print(f\"Original training shape: {X_train.shape}\")\n",
    "print(f\"Resampled training shape: {X_resampled.shape}\")\n",
    "print(f\"y_resampled value counts:\\n{y_resampled.value_counts()}\")\n"
   ]
  },
  {
   "cell_type": "markdown",
   "id": "e07fdc48",
   "metadata": {},
   "source": [
    "### 3.3.2 Train XGBoost on Resampled Data"
   ]
  },
  {
   "cell_type": "markdown",
   "id": "0990d9bd",
   "metadata": {},
   "source": [
    "With the resampled (balanced) training data from SMOTE, we now train an **XGBoost classifier**. This model can capture complex patterns and interactions in the data, making it well-suited for structured datasets like BRFSS.\n",
    "\n",
    "We use a simple default configuration to begin with, leaving hyperparameter tuning for later."
   ]
  },
  {
   "cell_type": "code",
   "execution_count": 20,
   "id": "d27d5bb8",
   "metadata": {},
   "outputs": [],
   "source": [
    "# Train XGBoost on resampled data\n",
    "xgb_model_recent = xgb.XGBClassifier(\n",
    "    eval_metric=\"logloss\",\n",
    "    random_state=SEED\n",
    ")\n",
    "xgb_model_recent.fit(X_resampled, y_resampled)\n",
    "\n",
    "# Predict probabilities on original (imbalanced) test set\n",
    "y_probs_recent = xgb_model_recent.predict_proba(X_test)[:, 1]"
   ]
  },
  {
   "cell_type": "markdown",
   "id": "c0ae553e",
   "metadata": {},
   "source": [
    "### 3.3.1 Predict Probabilities and Tune Threshold (F2 Score)"
   ]
  },
  {
   "cell_type": "markdown",
   "id": "e99e0c7d",
   "metadata": {},
   "source": [
    "With our XGBoost model trained on the 2022–2023 data, we now:\n",
    "\n",
    "- Predict probabilities for the **positive class (diabetes)**.\n",
    "- Use a **precision-recall curve** to identify the optimal threshold.\n",
    "- Focus on maximizing the **F2 score**, which prioritizes **recall** over precision."
   ]
  },
  {
   "cell_type": "code",
   "execution_count": 21,
   "id": "b0381612",
   "metadata": {},
   "outputs": [
    {
     "name": "stdout",
     "output_type": "stream",
     "text": [
      "Optimal F2 threshold (2022-2023): 0.39170\n"
     ]
    }
   ],
   "source": [
    "# Predict probabilities for the positive class\n",
    "y_probs_recent = xgb_model_recent.predict_proba(X_recent)[:, 1]\n",
    "\n",
    "# Compute precision-recall pairs\n",
    "precision, recall, thresholds = precision_recall_curve(y_recent, y_probs_recent)\n",
    "\n",
    "# Find threshold that maximizes F2 score\n",
    "beta = 2\n",
    "f2_scores = (1 + beta**2) * (precision[:-1] * recall[:-1]) / (\n",
    "    beta**2 * precision[:-1] + recall[:-1] + 1e-8\n",
    ")\n",
    "f2_idx = np.argmax(f2_scores)\n",
    "f2_threshold_recent = thresholds[f2_idx]\n",
    "print(f\"Optimal F2 threshold (2022-2023): {f2_threshold_recent:.5f}\")\n"
   ]
  },
  {
   "cell_type": "markdown",
   "id": "49cff6e8",
   "metadata": {},
   "source": [
    "### 3.3.2 Evaluate Model with F2-Optimized Threshold"
   ]
  },
  {
   "cell_type": "markdown",
   "id": "04b4c049",
   "metadata": {},
   "source": [
    "With the F2 threshold of **0.3917**, we evaluate how well the model balances recall and precision — especially for detecting diabetes cases. This heatmap highlights performance metrics for each class and summary statistics."
   ]
  },
  {
   "cell_type": "code",
   "execution_count": 22,
   "id": "a286590b",
   "metadata": {},
   "outputs": [
    {
     "data": {
      "image/png": "[encoded data removed]",
      "text/plain": [
       "<Figure size 800x380 with 1 Axes>"
      ]
     },
     "metadata": {},
     "output_type": "display_data"
    }
   ],
   "source": [
    "# Predict labels using F2-optimized threshold\n",
    "y_pred_recent = (y_probs_recent >= f2_threshold_recent).astype(int)\n",
    "\n",
    "# Generate classification report\n",
    "report_dict_recent = classification_report(y_recent, y_pred_recent, output_dict=True)\n",
    "df_recent_metrics = pd.DataFrame(report_dict_recent).transpose()\n",
    "\n",
    "# Format row labels\n",
    "df_recent_metrics.rename(index={\"0\": \"No Diabetes\", \"1\": \"Diabetes\"}, inplace=True)\n",
    "supports = df_recent_metrics.loc[[\"No Diabetes\", \"Diabetes\"], \"support\"].astype(int).map(\"{:,}\".format)\n",
    "\n",
    "row_labels = {\n",
    "    label: f\"{label}\\n(n = {supports[label]})\" for label in [\"No Diabetes\", \"Diabetes\"]\n",
    "}\n",
    "row_labels[\"accuracy\"] = \"accuracy\"\n",
    "row_labels[\"macro avg\"] = \"macro avg\"\n",
    "row_labels[\"weighted avg\"] = \"weighted avg\"\n",
    "\n",
    "# Select rows and metrics\n",
    "rows = [\"No Diabetes\", \"Diabetes\", \"accuracy\", \"macro avg\", \"weighted avg\"]\n",
    "metrics = df_recent_metrics.loc[rows, [\"precision\", \"recall\", \"f1-score\"]].round(2)\n",
    "yticklabels = [row_labels[r] for r in rows]\n",
    "\n",
    "# Plot\n",
    "fig, ax = plt.subplots(figsize=(8, 3.8))\n",
    "sns.heatmap(metrics, annot=True, fmt=\".2f\", cmap=\"YlGnBu\", cbar=False,\n",
    "            linewidths=0.5, linecolor=\"gray\", ax=ax,\n",
    "            xticklabels=[\"Precision\", \"Recall\", \"F1-Score\"],\n",
    "            yticklabels=yticklabels)\n",
    "\n",
    "ax.set_yticklabels(ax.get_yticklabels(), rotation=0)\n",
    "plt.title(f\"Classification Report (F2 threshold = {f2_threshold_recent:.5f})\", fontsize=12, pad=10)\n",
    "plt.tight_layout()\n",
    "plt.savefig(image_dir / \"01_xgb_recent_f2_report.png\", dpi=300)\n",
    "plt.show()\n"
   ]
  },
  {
   "cell_type": "markdown",
   "id": "083c6fc9",
   "metadata": {},
   "source": [
    "This classification report evaluates the XGBoost model trained on 2022–2023 data using the **F2-optimized threshold (≈ 0.3917)**, which prioritizes recall for diabetes detection:\n",
    "\n",
    "- The model **correctly identifies 83%** of diabetes cases — strong recall for screening.\n",
    "- However, **precision for diabetes remains low (24%)**, meaning many flagged cases are false positives.\n",
    "- The **No Diabetes** class retains high precision (95%) and modest recall (55%).\n",
    "- Overall accuracy is **59%**, and F1-scores reflect the tradeoff: higher recall but weaker precision for the positive class.\n",
    "\n",
    "This balance may be useful in **public health or early detection contexts**, where catching true positives is more important than minimizing false alarms."
   ]
  },
  {
   "cell_type": "code",
   "execution_count": 23,
   "id": "9f89b67d",
   "metadata": {},
   "outputs": [
    {
     "data": {
      "image/png": "[encoded data removed]",
      "text/plain": [
       "<Figure size 600x500 with 2 Axes>"
      ]
     },
     "metadata": {},
     "output_type": "display_data"
    }
   ],
   "source": [
    "# Convert predicted probabilities to binary predictions\n",
    "y_pred_f2 = (y_probs_recent >= f2_threshold_recent).astype(int)\n",
    "\n",
    "# Compute confusion matrix\n",
    "cm = confusion_matrix(y_recent, y_pred_f2, normalize='true')\n",
    "\n",
    "# Plot confusion matrix\n",
    "fig, ax = plt.subplots(figsize=(6, 5))\n",
    "sns.heatmap(cm, annot=True, fmt=\".2f\", cmap=\"Blues\", xticklabels=[\"No Diabetes\", \"Diabetes\"],\n",
    "            yticklabels=[\"No Diabetes\", \"Diabetes\"], ax=ax)\n",
    "\n",
    "plt.title(f\"XGBoost Confusion Matrix (F2 threshold = {f2_threshold_recent:.5f})\")\n",
    "plt.xlabel(\"Predicted label\")\n",
    "plt.ylabel(\"True label\")\n",
    "plt.tight_layout()\n",
    "plt.savefig(image_dir / \"01_xgb_confmat_2022_2023_f2.png\", dpi=300)\n",
    "plt.show()"
   ]
  },
  {
   "cell_type": "markdown",
   "id": "a87bad12",
   "metadata": {},
   "source": [
    "### Confusion Matrix (XGBoost, F2-Optimized Threshold, 2022–2023)\n",
    "\n",
    "This matrix shows the model’s performance on 2022–2023 data using the threshold that **maximizes the F2 score**, prioritizing **recall** for diabetes detection:\n",
    "\n",
    "- Of all people with diabetes (bottom row), **83% were correctly identified** (recall), while **17% were missed**.\n",
    "- Among those without diabetes (top row), **45% were incorrectly flagged** as having diabetes — a trade-off for higher recall.\n",
    "\n",
    "This threshold is useful in **public health screening**, where **false negatives are more costly** than false positives."
   ]
  },
  {
   "cell_type": "markdown",
   "id": "aad05c0f",
   "metadata": {},
   "source": [
    "### 3.5 Summary: XGBoost on 2022–2023"
   ]
  },
  {
   "cell_type": "markdown",
   "id": "74b43382",
   "metadata": {},
   "source": [
    "- We trained an **XGBoost classifier** on the most recent BRFSS data (2022–2023), using SMOTE to address class imbalance.\n",
    "- Threshold tuning with the **F2 score** prioritized recall, identifying **83% of diabetes cases** — nearly matching earlier results on 2019–2023 data.\n",
    "- The cost of improved recall is a **45% false positive rate** among people without diabetes.\n",
    "- Model performance is **consistent across years**, suggesting robustness in detecting diabetes with recent features.\n",
    "- This final model serves as a strong candidate for **real-world deployment**, particularly in **screening scenarios** where catching undiagnosed diabetes is critical."
   ]
  },
  {
   "cell_type": "code",
   "execution_count": null,
   "id": "d9802671",
   "metadata": {},
   "outputs": [],
   "source": []
  },
  {
   "cell_type": "code",
   "execution_count": null,
   "id": "e8406ac6",
   "metadata": {},
   "outputs": [],
   "source": []
  },
  {
   "cell_type": "markdown",
   "id": "2d1b279b",
   "metadata": {},
   "source": [
    "### 3.5.1 Evaluate with F0.5 Threshold\n",
    "\n",
    "To compare a **precision-focused** scenario, we evaluate the model using an F0.5-optimized threshold, which places greater weight on **minimizing false positives** — appropriate for cases where follow-up testing is costly or invasive.\n"
   ]
  },
  {
   "cell_type": "code",
   "execution_count": 24,
   "id": "ba8a758d",
   "metadata": {},
   "outputs": [
    {
     "name": "stdout",
     "output_type": "stream",
     "text": [
      "Optimal F0.5 threshold (2022-2023): 0.70782\n"
     ]
    },
    {
     "data": {
      "image/png": "[encoded data removed]",
      "text/plain": [
       "<Figure size 800x380 with 1 Axes>"
      ]
     },
     "metadata": {},
     "output_type": "display_data"
    }
   ],
   "source": [
    "# Find optimal F0.5 threshold\n",
    "f05_threshold_recent = find_optimal_threshold(y_recent, y_probs_recent, beta=0.5)\n",
    "print(f\"Optimal F0.5 threshold (2022-2023): {f05_threshold_recent:.5f}\")\n",
    "\n",
    "# Predict with F0.5 threshold\n",
    "y_pred_f05 = (y_probs_recent >= f05_threshold_recent).astype(int)\n",
    "\n",
    "# Classification report\n",
    "report_f05 = classification_report(y_recent, y_pred_f05, output_dict=True)\n",
    "plot_classification_report(\n",
    "    y_true=y_recent,\n",
    "    y_pred=y_pred_f05,\n",
    "    title=f\"Classification Report (F0.5 threshold = {f05_threshold_recent:.5f})\",\n",
    "    save_path=image_dir / \"01_xgb_classreport_2022_2023_f05.png\"\n",
    ")\n",
    "plt.savefig(image_dir / \"01_xgb_classreport_2022_2023_f05.png\", dpi=300)\n",
    "plt.show();"
   ]
  },
  {
   "cell_type": "markdown",
   "id": "23039930",
   "metadata": {},
   "source": [
    "The classification report under the F0.5 threshold shows high precision for both classes, particularly \"No Diabetes\". However, **recall for the diabetes class drops to 0.35**, meaning the model misses many true positives. This trade-off is expected with a lower beta in F-score, which prioritizes precision over recall."
   ]
  },
  {
   "cell_type": "code",
   "execution_count": 25,
   "id": "446e4e8d",
   "metadata": {},
   "outputs": [
    {
     "data": {
      "image/png": "[encoded data removed]",
      "text/plain": [
       "<Figure size 600x500 with 2 Axes>"
      ]
     },
     "metadata": {},
     "output_type": "display_data"
    }
   ],
   "source": [
    "# Confusion matrix\n",
    "cm_f05 = confusion_matrix(y_recent, y_pred_f05, normalize='true')\n",
    "fig, ax = plt.subplots(figsize=(6, 5))\n",
    "sns.heatmap(cm_f05, annot=True, fmt=\".2f\", cmap=\"Blues\", xticklabels=[\"No Diabetes\", \"Diabetes\"],\n",
    "            yticklabels=[\"No Diabetes\", \"Diabetes\"], ax=ax)\n",
    "\n",
    "plt.title(f\"XGBoost Confusion Matrix (F0.5 threshold = {f05_threshold_recent:.5f})\")\n",
    "plt.xlabel(\"Predicted label\")\n",
    "plt.ylabel(\"True label\")\n",
    "plt.tight_layout()\n",
    "plt.savefig(image_dir / \"01_xgb_confmat_2022_2023_f05.png\", dpi=300)\n",
    "plt.show()"
   ]
  },
  {
   "cell_type": "markdown",
   "id": "f4d8462f",
   "metadata": {},
   "source": [
    "The confusion matrix confirms that the model is highly conservative in predicting diabetes: only **35% of actual diabetes cases** are correctly identified. While false positives are reduced (just 10%), the **65% miss rate** for diabetics is likely **unacceptable** in a health-risk context. This validates our decision to default to the **F2 threshold**, which favors recall."
   ]
  },
  {
   "cell_type": "markdown",
   "id": "bc9e4855",
   "metadata": {},
   "source": [
    "Although the F0.5 threshold achieves higher precision and accuracy, it substantially sacrifices recall for the diabetes class (35%). This is likely unacceptable in a healthcare screening context, where **missing cases of diabetes can have serious consequences**. We therefore **discard the F0.5 threshold** and default to the F2-optimized model for the remainder of this analysis."
   ]
  },
  {
   "cell_type": "code",
   "execution_count": null,
   "id": "64e7c8c5",
   "metadata": {},
   "outputs": [],
   "source": []
  },
  {
   "cell_type": "code",
   "execution_count": null,
   "id": "1a32ae68",
   "metadata": {},
   "outputs": [],
   "source": []
  },
  {
   "cell_type": "markdown",
   "id": "de9245e9",
   "metadata": {},
   "source": [
    "## End"
   ]
  },
  {
   "cell_type": "code",
   "execution_count": 26,
   "id": "89d8137d",
   "metadata": {},
   "outputs": [
    {
     "name": "stdout",
     "output_type": "stream",
     "text": [
      "Notebook time: 2.49 minutes\n"
     ]
    }
   ],
   "source": [
    "time_spent = (time.time() - start_time) / 60 \n",
    "\n",
    "print(f\"Notebook time: {time_spent:.2f} minutes\")"
   ]
  }
 ],
 "metadata": {
  "kernelspec": {
   "display_name": "Python 3",
   "language": "python",
   "name": "python3"
  },
  "language_info": {
   "codemirror_mode": {
    "name": "ipython",
    "version": 3
   },
   "file_extension": ".py",
   "mimetype": "text/x-python",
   "name": "python",
   "nbconvert_exporter": "python",
   "pygments_lexer": "ipython3",
   "version": "3.11.13"
  }
 },
 "nbformat": 4,
 "nbformat_minor": 5
}
