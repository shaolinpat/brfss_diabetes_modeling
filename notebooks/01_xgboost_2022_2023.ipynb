{
 "cells": [
  {
   "cell_type": "markdown",
   "id": "fe354b1b",
   "metadata": {},
   "source": [
    "## 1. Comparing XGBoost vs. Logistic Regression (2019–2023)"
   ]
  },
  {
   "cell_type": "markdown",
   "id": "1bd992d8",
   "metadata": {},
   "source": [
    "In our previous notebook, we built a baseline model using **logistic regression** to predict diabetes risk from BRFSS data. Logistic regression is fast, interpretable, and a common starting point — but it struggled to detect diabetes cases accurately due to class imbalance and limited model flexibility.\n",
    "\n",
    "In this notebook, we begin by applying **XGBoost** to the **same 2019–2023 dataset**, allowing for a **direct comparison**. Unlike logistic regression, XGBoost is a gradient-boosted decision tree model that can:\n",
    "\n",
    "- Capture non-linear relationships\n",
    "- Handle feature interactions automatically\n",
    "- Deal more effectively with imbalanced classes (e.g., with `scale_pos_weight`)\n",
    "\n",
    "By comparing these two models head-to-head, we can assess whether a more sophisticated algorithm offers meaningful performance gains — particularly in **recall for the minority class (diabetes cases)**.\n",
    "\n",
    "Once we’ve made this comparison, we’ll switch to a **cleaner 2022–2023 subset** for further feature engineering, hyperparameter tuning, and interpretability analysis.\n",
    "\n",
    "Let’s begin by loading the same data and training both models."
   ]
  },
  {
   "cell_type": "code",
   "execution_count": 1,
   "id": "87fefb3c",
   "metadata": {},
   "outputs": [],
   "source": [
    "%matplotlib inline\n",
    "\n",
    "import matplotlib.pyplot as plt\n",
    "import numpy as np\n",
    "import os\n",
    "import pandas as pd\n",
    "import seaborn as sns\n",
    "import sys\n",
    "import time\n",
    "import xgboost as xgb\n",
    "\n",
    "from imblearn.over_sampling import SMOTE\n",
    "from pathlib import Path\n",
    "from sklearn.linear_model import LogisticRegression\n",
    "from sklearn.metrics import (\n",
    "    classification_report,\n",
    "    confusion_matrix,\n",
    "    ConfusionMatrixDisplay,\n",
    "    precision_recall_curve,\n",
    ")\n",
    "from sklearn.model_selection import train_test_split\n",
    "\n",
    "# Custom project imports (same as Notebook 00)\n",
    "from brfss_diabetes.io import load_all_years\n",
    "from brfss_diabetes.preprocessing import prepare_common_features"
   ]
  },
  {
   "cell_type": "code",
   "execution_count": 2,
   "id": "29139a73",
   "metadata": {},
   "outputs": [],
   "source": [
    "# Globals\n",
    "SEED = 22\n",
    "start_time = time.time()\n",
    "\n",
    "# Set paths\n",
    "image_dir = Path(\"..\") / \"images\"\n",
    "reports_dir = Path(\"..\") / \"reports\"\n",
    "data_dir = Path(\"..\") / \"data/cleaned\"\n",
    "\n",
    "# Ensure that output directories exist\n",
    "os.makedirs(image_dir, exist_ok=True)\n",
    "os.makedirs(reports_dir, exist_ok=True)"
   ]
  },
  {
   "cell_type": "markdown",
   "id": "3c9e9f1f",
   "metadata": {},
   "source": [
    "### 1.1 Load and Prepare Data"
   ]
  },
  {
   "cell_type": "markdown",
   "id": "c958ab90",
   "metadata": {},
   "source": [
    "While the BRFSS dataset contains many features, not all are consistently available or complete across the 2019–2023 survey years. For modeling purposes, we restrict our focus to a core set of features that:\n",
    "\n",
    "- Appear in all five years,\n",
    "- Have acceptable levels of missingness,\n",
    "- Are relevant for modeling diabetes risk.\n",
    "\n",
    "The selected `common_features` below meet these criteria and will be used in subsequent modeling steps."
   ]
  },
  {
   "cell_type": "code",
   "execution_count": 3,
   "id": "c4993501",
   "metadata": {},
   "outputs": [
    {
     "name": "stdout",
     "output_type": "stream",
     "text": [
      "[Local] Loading from: ../data/cleaned/brfss_cleaned_2019.csv\n",
      "[Local] Loading from: ../data/cleaned/brfss_cleaned_2020.csv\n",
      "[Local] Loading from: ../data/cleaned/brfss_cleaned_2021.csv\n",
      "[Local] Loading from: ../data/cleaned/brfss_cleaned_2022.csv\n",
      "[Local] Loading from: ../data/cleaned/brfss_cleaned_2023.csv\n"
     ]
    }
   ],
   "source": [
    "# Use only features common to all years\n",
    "common_features = [\"age\", \"sex\", \"educa\", \"bmi\", \"bmi_cat\", \"smoke_100\", \"exercise_any\"]\n",
    "\n",
    "# Load and prepare data\n",
    "years = [2019, 2020, 2021, 2022, 2023]\n",
    "df_all = load_all_years(years)"
   ]
  },
  {
   "cell_type": "code",
   "execution_count": 4,
   "id": "ff6573de",
   "metadata": {},
   "outputs": [
    {
     "name": "stdout",
     "output_type": "stream",
     "text": [
      "(1842899, 12)\n",
      "    age    bmi  smoke_100  exercise_any  diabetes  sex_Male  educa_HS or GED  \\\n",
      "0  85.0  28.17          1             0         0     False            False   \n",
      "1  72.0  18.54          0             1         0     False            False   \n",
      "2  67.0  31.62          0             1         1     False            False   \n",
      "4  85.0  21.48          1             0         0     False            False   \n",
      "6  72.0  32.98          1             1         1      True            False   \n",
      "\n",
      "   educa_Less than HS  educa_Some college  bmi_cat_Obese  bmi_cat_Overweight  \\\n",
      "0                True               False          False                True   \n",
      "1               False                True          False               False   \n",
      "2               False               False           True               False   \n",
      "4               False                True          False               False   \n",
      "6               False               False           True               False   \n",
      "\n",
      "   bmi_cat_Underweight  \n",
      "0                False  \n",
      "1                False  \n",
      "2                False  \n",
      "4                False  \n",
      "6                False  \n",
      "\n",
      "Any NaNs in X? False\n"
     ]
    }
   ],
   "source": [
    "df_common = prepare_common_features(df_all, common_features)\n",
    "\n",
    "print(df_common.shape)\n",
    "print(df_common.head())\n",
    "print(\"\\nAny NaNs in X?\", df_common.drop(columns=[\"diabetes\"]).isna().any().any())"
   ]
  },
  {
   "cell_type": "markdown",
   "id": "efad20bc",
   "metadata": {},
   "source": [
    "### 1.2 Train/Test Split"
   ]
  },
  {
   "cell_type": "code",
   "execution_count": 5,
   "id": "e70bc469",
   "metadata": {},
   "outputs": [],
   "source": [
    "# Split features and target\n",
    "X = df_common.drop(columns=[\"diabetes\"])\n",
    "y = df_common[\"diabetes\"]\n",
    "\n",
    "# Train/test split\n",
    "X_train, X_test, y_train, y_test = train_test_split(\n",
    "    X, y, test_size=0.2, stratify=y, random_state=SEED\n",
    ")"
   ]
  },
  {
   "cell_type": "markdown",
   "id": "367ed374",
   "metadata": {},
   "source": [
    "### 1.3 Train and Evaluate Logistic Regression"
   ]
  },
  {
   "cell_type": "markdown",
   "id": "d623994a",
   "metadata": {},
   "source": [
    "Before comparing against XGBoost, we replicate the logistic regression pipeline from Notebook 00 — including **SMOTE**, which helps handle class imbalance in the training data."
   ]
  },
  {
   "cell_type": "markdown",
   "id": "714f9edd",
   "metadata": {},
   "source": [
    "#### 1.3.1 Why SMOTE? Addressing Class Imbalance"
   ]
  },
  {
   "cell_type": "markdown",
   "id": "fa08aaef",
   "metadata": {},
   "source": [
    "In this dataset, only about **1 in 7** individuals reported being told they had diabetes — a clear case of **class imbalance**. Models trained on imbalanced data often become biased toward predicting the majority class (“No diabetes”), which can result in:\n",
    "\n",
    "- High overall accuracy,\n",
    "- But **poor recall** for the minority class (“Diabetes”).\n",
    "\n",
    "To mitigate this, we apply **SMOTE** (Synthetic Minority Over-sampling Technique) to the **training set only**. SMOTE creates **synthetic samples** of the minority class by interpolating between existing cases, helping the model learn decision boundaries that better reflect both classes.\n",
    "\n",
    "This ensures a fair comparison between logistic regression and XGBoost under the same conditions — allowing us to isolate the benefits of the more complex model architecture.\n",
    "\n",
    "We now apply SMOTE *after* splitting to avoid any data leakage."
   ]
  },
  {
   "cell_type": "code",
   "execution_count": 6,
   "id": "936b0dd8",
   "metadata": {},
   "outputs": [
    {
     "name": "stdout",
     "output_type": "stream",
     "text": [
      "Before SMOTE y_train counts:\n",
      "diabetes\n",
      "0    1261433\n",
      "1     212886\n",
      "Name: count, dtype: int64\n",
      "\n",
      "After SMOTE y_resampled counts:\n",
      "diabetes\n",
      "0    1261433\n",
      "1    1261433\n",
      "Name: count, dtype: int64\n"
     ]
    }
   ],
   "source": [
    "# Print class distribution before resampling\n",
    "print(f\"Before SMOTE y_train counts:\\n{y_train.value_counts()}\\n\")\n",
    "\n",
    "# Apply SMOTE to training data only (to avoid data leakage)\n",
    "smote = SMOTE(random_state=SEED)\n",
    "X_resampled, y_resampled = smote.fit_resample(X_train, y_train)\n",
    "\n",
    "# Train logistic regression with balanced class weights\n",
    "model = LogisticRegression(max_iter=1000, class_weight=\"balanced\")\n",
    "model.fit(X_resampled, y_resampled)\n",
    "\n",
    "# Predict on original (imbalanced) test set\n",
    "y_pred = model.predict(X_test)\n",
    "\n",
    "# Print class distribution after SMOTE\n",
    "print(f\"After SMOTE y_resampled counts:\\n{y_resampled.value_counts()}\")"
   ]
  },
  {
   "cell_type": "markdown",
   "id": "752968e6",
   "metadata": {},
   "source": [
    "### 1.4 Baseline: Logistic Regression Performance (Summary)"
   ]
  },
  {
   "cell_type": "markdown",
   "id": "e5809fcd",
   "metadata": {},
   "source": [
    "To fairly compare XGBoost against our earlier baseline, we first replicate the logistic regression model on the same 2019–2023 data.\n",
    "\n",
    "This model was trained using SMOTE to handle class imbalance (as explained in Notebook 00), and evaluated under multiple decision thresholds:\n",
    "- **Balanced (threshold ≈ 0.68)**\n",
    "- **F2 score optimized (threshold ≈ 0.41)** – favors **recall**\n",
    "- **F0.5 score optimized (threshold ≈ 0.69)** – favors **precision**\n",
    "\n",
    "We summarize logistic regression’s classification performance below as a reference point before training XGBoost."
   ]
  },
  {
   "cell_type": "code",
   "execution_count": 7,
   "id": "1356148e",
   "metadata": {},
   "outputs": [
    {
     "name": "stdout",
     "output_type": "stream",
     "text": [
      "Best F2 threshold: 0.40556\n"
     ]
    }
   ],
   "source": [
    "# Predict probabilities for the positive class\n",
    "y_probs = model.predict_proba(X_test)[:, 1]\n",
    "\n",
    "# Calculate precision-recall pairs for all thresholds\n",
    "precision, recall, thresholds = precision_recall_curve(y_test, y_probs)\n",
    "\n",
    "# Find threshold that maximizes F2 score (recall emphasis)\n",
    "beta = 2 \n",
    "f2_scores = (1 + beta**2) * (precision[:-1] * recall[:-1]) / (beta**2 * precision[:-1] + recall[:-1] + 1e-8)\n",
    "f2_idx = np.argmax(f2_scores)\n",
    "f2_threshold = thresholds[f2_idx]\n",
    "print(f\"Best F2 threshold: {f2_threshold:.5f}\")"
   ]
  },
  {
   "cell_type": "code",
   "execution_count": 8,
   "id": "c15b30a5",
   "metadata": {},
   "outputs": [
    {
     "data": {
      "image/png": "[encoded data removed]",
      "text/plain": [
       "<Figure size 800x380 with 1 Axes>"
      ]
     },
     "metadata": {},
     "output_type": "display_data"
    }
   ],
   "source": [
    "# Define threshold and predictions first\n",
    "threshold_val = f2_threshold\n",
    "y_pred_f2 = (y_probs >= threshold_val).astype(int)\n",
    "\n",
    "report_dict = classification_report(y_test, y_pred_f2, output_dict=True)\n",
    "df = pd.DataFrame(report_dict).transpose()\n",
    "\n",
    "# Format row labels with support counts\n",
    "df.rename(index={\"0\": \"No Diabetes\", \"1\": \"Diabetes\"}, inplace=True)\n",
    "supports = df.loc[[\"No Diabetes\", \"Diabetes\"], \"support\"].dropna().astype(int).map(\"{:,}\".format)\n",
    "row_labels = {\n",
    "    label: f\"{label}\\n(n = {supports[label]})\"\n",
    "    for label in [\"No Diabetes\", \"Diabetes\"]\n",
    "}\n",
    "row_labels[\"accuracy\"] = \"accuracy\"\n",
    "row_labels[\"macro avg\"] = \"macro avg\"\n",
    "row_labels[\"weighted avg\"] = \"weighted avg\"\n",
    "\n",
    "# Select rows and metrics\n",
    "rows_to_plot = [\"No Diabetes\", \"Diabetes\", \"accuracy\", \"macro avg\", \"weighted avg\"]\n",
    "metrics = df.loc[rows_to_plot, [\"precision\", \"recall\", \"f1-score\"]].round(2)\n",
    "row_label_list = [row_labels[r] for r in rows_to_plot]\n",
    "\n",
    "# Plot\n",
    "fig, ax = plt.subplots(figsize=(8, 3.8))\n",
    "sns.heatmap(metrics, annot=True, fmt=\".2f\", cmap=\"YlGnBu\", cbar=False,\n",
    "            linewidths=0.5, linecolor=\"gray\", ax=ax,\n",
    "            xticklabels=[\"Precision\", \"Recall\", \"F1-Score\"],\n",
    "            yticklabels=row_label_list)\n",
    "\n",
    "ax.set_yticklabels(ax.get_yticklabels(), rotation=0)\n",
    "plt.title(f\"Classification Report (F2 threshold = {threshold_val:.5f})\", fontsize=12, pad=10)\n",
    "plt.tight_layout()\n",
    "plt.savefig(image_dir / \"01_classification_report_f2.png\", dpi=300)\n",
    "plt.show()"
   ]
  },
  {
   "cell_type": "markdown",
   "id": "2c951961",
   "metadata": {},
   "source": [
    "This heatmap shows model performance using the threshold that **maximizes the F2 score**, which gives **extra weight to recall**:\n",
    "\n",
    "- The model correctly identifies **84% of actual diabetes cases** (recall), a major gain compared to the ~35% at the balanced threshold.\n",
    "- However, **precision drops to 22%** — most positive predictions are false alarms.\n",
    "- For the **No Diabetes** class, precision remains high at **95%**, but recall falls to 51% — many are incorrectly flagged as diabetic.\n",
    "- **Overall accuracy falls to 56%**, but this is expected: we’ve sacrificed precision and accuracy in order to **catch more true positives**.\n",
    "\n",
    "This setting is ideal for **screening scenarios** where **missing real cases is riskier** than issuing false positives — for example, early-stage population health interventions."
   ]
  },
  {
   "cell_type": "code",
   "execution_count": 9,
   "id": "0408c984",
   "metadata": {},
   "outputs": [
    {
     "data": {
      "image/png": "[encoded data removed]",
      "text/plain": [
       "<Figure size 640x480 with 2 Axes>"
      ]
     },
     "metadata": {},
     "output_type": "display_data"
    }
   ],
   "source": [
    "# Confusion matrix at F2 threshold\n",
    "cm = confusion_matrix(y_test, y_pred_f2, normalize=\"true\")\n",
    "disp = ConfusionMatrixDisplay(confusion_matrix=cm, display_labels=[\"No Diabetes\", \"Diabetes\"])\n",
    "disp.plot(cmap=\"Blues\")\n",
    "plt.title(f\"Confusion Matrix (F2 threshold = {threshold_val:.5f})\")\n",
    "plt.grid(False)\n",
    "plt.savefig(image_dir / \"01_confusion_matrix_f2.png\", dpi=300)\n",
    "plt.show()"
   ]
  },
  {
   "cell_type": "markdown",
   "id": "22967c21",
   "metadata": {},
   "source": [
    "This confusion matrix shows the model’s performance using the **F2-optimized threshold**, which emphasizes **recall** — prioritizing the identification of as many true diabetes cases as possible.\n",
    "\n",
    "- Of all actual diabetes cases (bottom row), **84% were correctly identified** (true positives), while **16% were missed** (false negatives).\n",
    "- Among people without diabetes (top row), the model incorrectly flagged **49% as diabetic** (false positives), reflecting the trade-off in precision.\n",
    "\n",
    "This threshold may be appropriate for **screening scenarios**, where **missing true cases** is more costly than generating some **false alarms**."
   ]
  },
  {
   "cell_type": "markdown",
   "id": "685e8467",
   "metadata": {},
   "source": [
    "### 1.5 Summary: Logistic Regression Performance (2019–2023)"
   ]
  },
  {
   "cell_type": "markdown",
   "id": "3111b916",
   "metadata": {},
   "source": [
    "Below is the classification performance of our logistic regression model under different decision thresholds. These highlight the tradeoffs between **precision** and **recall**, especially for the minority class (diabetes):\n",
    "\n",
    "| Strategy             | Precision (Diabetes) | Recall (Diabetes) | Use Case                                        |\n",
    "|----------------------|----------------------|--------------------|-------------------------------------------------|\n",
    "| **Balanced (Precision = Recall)** | ~0.35                | ~0.35              | Equal weight to false positives/negatives       |\n",
    "| **Recall-Weighted (F2) **     | ~0.22                | **~0.84**          | Emphasize **recall** — early screening          |\n",
    "| **Precision-Weighted (F0.5)**   | **~0.35**            | ~0.34              | Emphasize **precision** — expensive follow-up   |\n",
    "\n",
    "We will now apply **XGBoost** to this same dataset to evaluate whether a tree-based model can achieve better recall while maintaining usable precision."
   ]
  },
  {
   "cell_type": "markdown",
   "id": "db4e3da0",
   "metadata": {},
   "source": [
    "### Confusion Matrix Summary (Logistic Regression)\n",
    "\n",
    "| Threshold Type         |   TN (No Diabetes) |   FP (No Diabetes) |   FN (Diabetes) |   TP (Diabetes) |   Recall (Diabetes) |   Precision (Diabetes) |\n",
    "|------------------------|--------------------|---------------------|------------------|------------------|----------------------|-------------------------|\n",
    "| Balanced (Precision = Recall)      |               0.89 |                0.11 |             0.65 |             0.35 |                 0.35 |                   0.35 |\n",
    "| Recall-Weighted (F2)   |               0.51 |                0.49 |             0.16 |             0.84 |                 0.84 |                   0.22 |\n",
    "| Precision-Weighted (F0.5) |           0.89 |                0.11 |             0.66 |             0.34 |                 0.34 |                   0.89 |\n"
   ]
  },
  {
   "cell_type": "code",
   "execution_count": null,
   "id": "e6bbc04b",
   "metadata": {},
   "outputs": [],
   "source": []
  },
  {
   "cell_type": "code",
   "execution_count": 10,
   "id": "e4a1f11e",
   "metadata": {},
   "outputs": [
    {
     "data": {
      "image/png": "[encoded data removed]",
      "text/plain": [
       "<Figure size 800x380 with 1 Axes>"
      ]
     },
     "metadata": {},
     "output_type": "display_data"
    }
   ],
   "source": [
    "# Predict class probabilities and labels\n",
    "y_probs_lr = model.predict_proba(X_test)[:, 1]\n",
    "y_pred_lr = model.predict(X_test)\n",
    "\n",
    "# Classification report\n",
    "report = classification_report(y_test, y_pred_lr, output_dict=True)\n",
    "df_report = pd.DataFrame(report).transpose().round(2)\n",
    "\n",
    "# Rename labels\n",
    "df_report.rename(index={\"0\": \"No Diabetes\", \"1\": \"Diabetes\"}, inplace=True)\n",
    "\n",
    "# Display support counts\n",
    "supports = df_report.loc[[\"No Diabetes\", \"Diabetes\"], \"support\"].astype(int).map(\"{:,}\".format)\n",
    "row_labels = {\n",
    "    label: f\"{label}\\n(n = {supports[label]})\"\n",
    "    for label in [\"No Diabetes\", \"Diabetes\"]\n",
    "}\n",
    "row_labels[\"accuracy\"] = \"accuracy\"\n",
    "row_labels[\"macro avg\"] = \"macro avg\"\n",
    "row_labels[\"weighted avg\"] = \"weighted avg\"\n",
    "\n",
    "# Select key metrics\n",
    "rows = [\"No Diabetes\", \"Diabetes\", \"accuracy\", \"macro avg\", \"weighted avg\"]\n",
    "metrics = df_report.loc[rows, [\"precision\", \"recall\", \"f1-score\"]]\n",
    "\n",
    "# Heatmap\n",
    "fig, ax = plt.subplots(figsize=(8, 3.8))\n",
    "sns.heatmap(metrics, annot=True, fmt=\".2f\", cmap=\"YlGnBu\", cbar=False,\n",
    "            linewidths=0.5, linecolor=\"gray\", ax=ax,\n",
    "            xticklabels=[\"Precision\", \"Recall\", \"F1-Score\"],\n",
    "            yticklabels=[row_labels[r] for r in rows])\n",
    "ax.set_yticklabels(ax.get_yticklabels(), rotation=0)\n",
    "plt.title(\"Classification Report: Logistic Regression\", fontsize=12, pad=10)\n",
    "plt.tight_layout()\n",
    "plt.savefig(image_dir / \"classification_report_logistic.png\", dpi=300)\n",
    "plt.show()\n"
   ]
  },
  {
   "cell_type": "code",
   "execution_count": null,
   "id": "6a8f614b",
   "metadata": {},
   "outputs": [],
   "source": []
  },
  {
   "cell_type": "code",
   "execution_count": null,
   "id": "5c70471d",
   "metadata": {},
   "outputs": [],
   "source": []
  },
  {
   "cell_type": "code",
   "execution_count": null,
   "id": "38dc03c8",
   "metadata": {},
   "outputs": [],
   "source": []
  },
  {
   "cell_type": "code",
   "execution_count": null,
   "id": "f607ec33",
   "metadata": {},
   "outputs": [],
   "source": []
  },
  {
   "cell_type": "markdown",
   "id": "470fbf5e",
   "metadata": {},
   "source": [
    "### 1.4 Train and Evaluate XGBoost"
   ]
  },
  {
   "cell_type": "code",
   "execution_count": null,
   "id": "76b3dfe2",
   "metadata": {},
   "outputs": [],
   "source": []
  },
  {
   "cell_type": "code",
   "execution_count": null,
   "id": "edccfda8",
   "metadata": {},
   "outputs": [],
   "source": []
  },
  {
   "cell_type": "markdown",
   "id": "205b5a00",
   "metadata": {},
   "source": [
    "### 1.5 Visual Comparison of Results"
   ]
  },
  {
   "cell_type": "code",
   "execution_count": null,
   "id": "47c5694f",
   "metadata": {},
   "outputs": [],
   "source": []
  },
  {
   "cell_type": "markdown",
   "id": "6135ef4e",
   "metadata": {},
   "source": [
    "## Quick EDA"
   ]
  },
  {
   "cell_type": "code",
   "execution_count": 11,
   "id": "67111514",
   "metadata": {},
   "outputs": [],
   "source": [
    "# # Check target class balance\n",
    "# print(df_all[\"diabetes\"].value_counts())\n",
    "# print(df_all[\"diabetes\"].value_counts(normalize=True))"
   ]
  },
  {
   "cell_type": "code",
   "execution_count": 12,
   "id": "0f45f3ef",
   "metadata": {},
   "outputs": [],
   "source": [
    "# # Count by year\n",
    "# print(df_all.groupby(\"year\")[\"diabetes\"].value_counts(normalize=True))"
   ]
  },
  {
   "cell_type": "code",
   "execution_count": 13,
   "id": "3a2ed2db",
   "metadata": {},
   "outputs": [],
   "source": [
    "# sns.countplot(data=df_all, x=\"year\", hue=\"diabetes\")\n",
    "# plt.title(\"Diabetes prevalence by year\")\n",
    "# plt.show()"
   ]
  },
  {
   "cell_type": "markdown",
   "id": "3303486a",
   "metadata": {},
   "source": [
    "## Baseline model"
   ]
  },
  {
   "cell_type": "markdown",
   "id": "20dbebf4",
   "metadata": {},
   "source": [
    "### Preprocessing"
   ]
  },
  {
   "cell_type": "code",
   "execution_count": 14,
   "id": "7a9de8cf",
   "metadata": {},
   "outputs": [],
   "source": [
    "df_model = df_all.copy()\n",
    "\n",
    "# Features and target\n",
    "features = [\n",
    "    \"year\", \"age\", \"sex\", \"educa\", \"bmi\", \"bmi_cat\", \"drink_any\", \"snap_used\",\n",
    "    \"food_insecurity\", \"smoke_100\", \"exercise_any\"\n",
    "]\n",
    "\n",
    "target = \"diabetes\"\n",
    "\n",
    "df_model = df_model[features + [target]].copy()\n",
    "\n",
    "\n",
    "### Convert binary and categorical vars\n",
    "binary_cols = [\"smoke_100\", \"exercise_any\", \"diabetes\", \"drink_any\", \"snap_used\"]\n",
    "for col in binary_cols:\n",
    "    df_model[col] = df_model[col].astype(str).str.strip().str.replace('\"', '').map({\"Yes\": 1, \"No\": 0})"
   ]
  },
  {
   "cell_type": "code",
   "execution_count": 15,
   "id": "8356d4a2",
   "metadata": {},
   "outputs": [
    {
     "name": "stdout",
     "output_type": "stream",
     "text": [
      "['year', 'age', 'bmi', 'drink_any', 'snap_used', 'smoke_100', 'exercise_any', 'diabetes', 'sex_Male', 'educa_HS or GED', 'educa_Less than HS', 'educa_Some college', 'bmi_cat_Obese', 'bmi_cat_Overweight', 'bmi_cat_Underweight', 'food_insecurity_Never', 'food_insecurity_Rarely', 'food_insecurity_Sometimes', 'food_insecurity_Usually']\n",
      "Any NaNs in X? True\n"
     ]
    },
    {
     "data": {
      "text/html": [
       "<div>\n",
       "<style scoped>\n",
       "    .dataframe tbody tr th:only-of-type {\n",
       "        vertical-align: middle;\n",
       "    }\n",
       "\n",
       "    .dataframe tbody tr th {\n",
       "        vertical-align: top;\n",
       "    }\n",
       "\n",
       "    .dataframe thead th {\n",
       "        text-align: right;\n",
       "    }\n",
       "</style>\n",
       "<table border=\"1\" class=\"dataframe\">\n",
       "  <thead>\n",
       "    <tr style=\"text-align: right;\">\n",
       "      <th></th>\n",
       "      <th>year</th>\n",
       "      <th>age</th>\n",
       "      <th>bmi</th>\n",
       "      <th>drink_any</th>\n",
       "      <th>snap_used</th>\n",
       "      <th>smoke_100</th>\n",
       "      <th>exercise_any</th>\n",
       "      <th>diabetes</th>\n",
       "      <th>sex_Male</th>\n",
       "      <th>educa_HS or GED</th>\n",
       "      <th>educa_Less than HS</th>\n",
       "      <th>educa_Some college</th>\n",
       "      <th>bmi_cat_Obese</th>\n",
       "      <th>bmi_cat_Overweight</th>\n",
       "      <th>bmi_cat_Underweight</th>\n",
       "      <th>food_insecurity_Never</th>\n",
       "      <th>food_insecurity_Rarely</th>\n",
       "      <th>food_insecurity_Sometimes</th>\n",
       "      <th>food_insecurity_Usually</th>\n",
       "    </tr>\n",
       "  </thead>\n",
       "  <tbody>\n",
       "    <tr>\n",
       "      <th>0</th>\n",
       "      <td>2019</td>\n",
       "      <td>85.0</td>\n",
       "      <td>28.17</td>\n",
       "      <td>0.0</td>\n",
       "      <td>NaN</td>\n",
       "      <td>1.0</td>\n",
       "      <td>0.0</td>\n",
       "      <td>0</td>\n",
       "      <td>False</td>\n",
       "      <td>False</td>\n",
       "      <td>True</td>\n",
       "      <td>False</td>\n",
       "      <td>False</td>\n",
       "      <td>True</td>\n",
       "      <td>False</td>\n",
       "      <td>False</td>\n",
       "      <td>False</td>\n",
       "      <td>False</td>\n",
       "      <td>False</td>\n",
       "    </tr>\n",
       "    <tr>\n",
       "      <th>1</th>\n",
       "      <td>2019</td>\n",
       "      <td>72.0</td>\n",
       "      <td>18.54</td>\n",
       "      <td>0.0</td>\n",
       "      <td>NaN</td>\n",
       "      <td>0.0</td>\n",
       "      <td>1.0</td>\n",
       "      <td>0</td>\n",
       "      <td>False</td>\n",
       "      <td>False</td>\n",
       "      <td>False</td>\n",
       "      <td>True</td>\n",
       "      <td>False</td>\n",
       "      <td>False</td>\n",
       "      <td>False</td>\n",
       "      <td>False</td>\n",
       "      <td>False</td>\n",
       "      <td>False</td>\n",
       "      <td>False</td>\n",
       "    </tr>\n",
       "    <tr>\n",
       "      <th>2</th>\n",
       "      <td>2019</td>\n",
       "      <td>67.0</td>\n",
       "      <td>31.62</td>\n",
       "      <td>0.0</td>\n",
       "      <td>NaN</td>\n",
       "      <td>0.0</td>\n",
       "      <td>1.0</td>\n",
       "      <td>1</td>\n",
       "      <td>False</td>\n",
       "      <td>False</td>\n",
       "      <td>False</td>\n",
       "      <td>False</td>\n",
       "      <td>True</td>\n",
       "      <td>False</td>\n",
       "      <td>False</td>\n",
       "      <td>False</td>\n",
       "      <td>False</td>\n",
       "      <td>False</td>\n",
       "      <td>False</td>\n",
       "    </tr>\n",
       "    <tr>\n",
       "      <th>3</th>\n",
       "      <td>2019</td>\n",
       "      <td>85.0</td>\n",
       "      <td>20.30</td>\n",
       "      <td>NaN</td>\n",
       "      <td>NaN</td>\n",
       "      <td>NaN</td>\n",
       "      <td>NaN</td>\n",
       "      <td>0</td>\n",
       "      <td>False</td>\n",
       "      <td>False</td>\n",
       "      <td>False</td>\n",
       "      <td>True</td>\n",
       "      <td>False</td>\n",
       "      <td>False</td>\n",
       "      <td>False</td>\n",
       "      <td>False</td>\n",
       "      <td>False</td>\n",
       "      <td>False</td>\n",
       "      <td>False</td>\n",
       "    </tr>\n",
       "    <tr>\n",
       "      <th>4</th>\n",
       "      <td>2019</td>\n",
       "      <td>85.0</td>\n",
       "      <td>21.48</td>\n",
       "      <td>0.0</td>\n",
       "      <td>NaN</td>\n",
       "      <td>1.0</td>\n",
       "      <td>0.0</td>\n",
       "      <td>0</td>\n",
       "      <td>False</td>\n",
       "      <td>False</td>\n",
       "      <td>False</td>\n",
       "      <td>True</td>\n",
       "      <td>False</td>\n",
       "      <td>False</td>\n",
       "      <td>False</td>\n",
       "      <td>False</td>\n",
       "      <td>False</td>\n",
       "      <td>False</td>\n",
       "      <td>False</td>\n",
       "    </tr>\n",
       "  </tbody>\n",
       "</table>\n",
       "</div>"
      ],
      "text/plain": [
       "   year   age    bmi  drink_any  snap_used  smoke_100  exercise_any  diabetes  \\\n",
       "0  2019  85.0  28.17        0.0        NaN        1.0           0.0         0   \n",
       "1  2019  72.0  18.54        0.0        NaN        0.0           1.0         0   \n",
       "2  2019  67.0  31.62        0.0        NaN        0.0           1.0         1   \n",
       "3  2019  85.0  20.30        NaN        NaN        NaN           NaN         0   \n",
       "4  2019  85.0  21.48        0.0        NaN        1.0           0.0         0   \n",
       "\n",
       "   sex_Male  educa_HS or GED  educa_Less than HS  educa_Some college  \\\n",
       "0     False            False                True               False   \n",
       "1     False            False               False                True   \n",
       "2     False            False               False               False   \n",
       "3     False            False               False                True   \n",
       "4     False            False               False                True   \n",
       "\n",
       "   bmi_cat_Obese  bmi_cat_Overweight  bmi_cat_Underweight  \\\n",
       "0          False                True                False   \n",
       "1          False               False                False   \n",
       "2           True               False                False   \n",
       "3          False               False                False   \n",
       "4          False               False                False   \n",
       "\n",
       "   food_insecurity_Never  food_insecurity_Rarely  food_insecurity_Sometimes  \\\n",
       "0                  False                   False                      False   \n",
       "1                  False                   False                      False   \n",
       "2                  False                   False                      False   \n",
       "3                  False                   False                      False   \n",
       "4                  False                   False                      False   \n",
       "\n",
       "   food_insecurity_Usually  \n",
       "0                    False  \n",
       "1                    False  \n",
       "2                    False  \n",
       "3                    False  \n",
       "4                    False  "
      ]
     },
     "execution_count": 15,
     "metadata": {},
     "output_type": "execute_result"
    }
   ],
   "source": [
    "### Convert categorical strings to dummy vars\n",
    "df_model = pd.get_dummies(df_model, columns=[\"sex\", \"educa\", \"bmi_cat\", \n",
    "                                             \"food_insecurity\"], drop_first=True)\n",
    "\n",
    "print(df_model.columns.tolist())\n",
    "print(\"Any NaNs in X?\", df_model.drop(columns=[\"diabetes\"]).isna().any().any())\n",
    "df_model.head()"
   ]
  },
  {
   "cell_type": "code",
   "execution_count": 16,
   "id": "a8b613ae",
   "metadata": {},
   "outputs": [
    {
     "name": "stdout",
     "output_type": "stream",
     "text": [
      "Before split: (2132659, 19)\n",
      "After dropping NA: (458406, 19)\n"
     ]
    }
   ],
   "source": [
    "print(\"Before split:\", df_model.shape)\n",
    "\n",
    "features = [f for f in features if f in df_model.columns]\n",
    "# Drop rows with missing values in selected features or target\n",
    "df_model = df_model.dropna(subset=features + [target])\n",
    "\n",
    "print(\"After dropping NA:\", df_model.shape)"
   ]
  },
  {
   "cell_type": "code",
   "execution_count": 17,
   "id": "7401bcdf",
   "metadata": {},
   "outputs": [],
   "source": [
    "# Split features and target\n",
    "X = df_model.drop(columns=[\"diabetes\"])\n",
    "y = df_model[\"diabetes\"]"
   ]
  },
  {
   "cell_type": "markdown",
   "id": "e31c699b",
   "metadata": {},
   "source": [
    "## Train/Test Split"
   ]
  },
  {
   "cell_type": "code",
   "execution_count": 18,
   "id": "cfe1af1f",
   "metadata": {},
   "outputs": [
    {
     "name": "stdout",
     "output_type": "stream",
     "text": [
      "(366724, 18) (91682, 18)\n"
     ]
    }
   ],
   "source": [
    "X_train, X_test, y_train, y_test = train_test_split(\n",
    "    X, y, test_size=0.2, stratify=y, random_state=SEED\n",
    ")\n",
    "print(X_train.shape, X_test.shape)"
   ]
  },
  {
   "cell_type": "markdown",
   "id": "87484b83",
   "metadata": {},
   "source": [
    "## Baseline Model"
   ]
  },
  {
   "cell_type": "code",
   "execution_count": 19,
   "id": "f70786fb",
   "metadata": {},
   "outputs": [
    {
     "name": "stdout",
     "output_type": "stream",
     "text": [
      "Negative: 312083, positive: 54641\n",
      "Negative: 312083, positive: 54641, scale: 5.71\n",
      "y_test shape: (91682,)\n",
      "y_pred shape: (91682,)\n"
     ]
    }
   ],
   "source": [
    "neg, pos = np.bincount(y_train)\n",
    "print(f\"Negative: {neg}, positive: {pos}\")\n",
    "scale = neg / pos\n",
    "print(f\"Negative: {neg}, positive: {pos}, scale: {scale:.2f}\")\n",
    "\n",
    "model = xgb.XGBClassifier(\n",
    "    # use_label_encoder=False,\n",
    "    eval_metric=\"logloss\",\n",
    "    scale_pos_weight=scale,\n",
    "    n_estimators=100,\n",
    "    max_depth=4,\n",
    "    learning_rate=0.1,\n",
    "    random_state=SEED\n",
    ")\n",
    "model.fit(X_train, y_train)\n",
    "y_pred = model.predict(X_test)\n",
    "print(f\"y_test shape: {y_test.shape}\")\n",
    "print(f\"y_pred shape: {y_pred.shape}\")"
   ]
  },
  {
   "cell_type": "markdown",
   "id": "0723b346",
   "metadata": {},
   "source": [
    "## Evaluation"
   ]
  },
  {
   "cell_type": "code",
   "execution_count": 20,
   "id": "9e3fd6e4",
   "metadata": {},
   "outputs": [
    {
     "name": "stdout",
     "output_type": "stream",
     "text": [
      "\n",
      "Classification Report(Baseline XGBoost):\n",
      "              precision    recall  f1-score   support\n",
      "\n",
      "           0      0.935     0.658     0.772     78021\n",
      "           1      0.275     0.740     0.401     13661\n",
      "\n",
      "    accuracy                          0.670     91682\n",
      "   macro avg      0.605     0.699     0.587     91682\n",
      "weighted avg      0.837     0.670     0.717     91682\n",
      "\n"
     ]
    }
   ],
   "source": [
    "print(\"\\nClassification Report(Baseline XGBoost):\")\n",
    "print(classification_report(y_test, y_pred, digits=3))"
   ]
  },
  {
   "cell_type": "markdown",
   "id": "489f5049",
   "metadata": {},
   "source": [
    "### Visualizations"
   ]
  },
  {
   "cell_type": "code",
   "execution_count": 21,
   "id": "0b02a258",
   "metadata": {},
   "outputs": [],
   "source": [
    "# y_true = df_model[\"diabetes\"]\n",
    "# y_probs = model.predict_proba(X)[:, 1]\n",
    "\n",
    "# # ROC Curve\n",
    "# fpr, tpr, thresholds_roc = roc_curve(y_true, y_probs)\n",
    "# roc_auc = roc_auc_score(y_true, y_probs)\n",
    "\n",
    "# plt.figure()\n",
    "# plt.plot(fpr, tpr, label=f\"AUC + {roc_auc:.2f}\")\n",
    "# plt.plot([0, 1], [0, 1], linestyle=\"--\", color=\"gray\")\n",
    "# plt.xlabel(\"False Positive Rate\")\n",
    "# plt.ylabel(\"True Positive Rate (Recall)\")\n",
    "# plt.title(\"ROC Curve\")\n",
    "# plt.legend()\n",
    "# plt.grid(True)\n",
    "# plt.show()"
   ]
  },
  {
   "cell_type": "code",
   "execution_count": 22,
   "id": "4147e911",
   "metadata": {},
   "outputs": [
    {
     "name": "stdout",
     "output_type": "stream",
     "text": [
      "              precision    recall  f1-score   support\n",
      "\n",
      "           0      0.935     0.658     0.772     78021\n",
      "           1      0.275     0.740     0.401     13661\n",
      "\n",
      "    accuracy                          0.670     91682\n",
      "   macro avg      0.605     0.699     0.587     91682\n",
      "weighted avg      0.837     0.670     0.717     91682\n",
      "\n",
      "y_test shape: (91682,)\n",
      "y_pred shape: (91682,)\n"
     ]
    }
   ],
   "source": [
    "print(classification_report(y_test, y_pred, digits=3))\n",
    "print(f\"y_test shape: {y_test.shape}\")\n",
    "print(f\"y_pred shape: {y_pred.shape}\")"
   ]
  },
  {
   "cell_type": "code",
   "execution_count": 23,
   "id": "f3d461d4",
   "metadata": {},
   "outputs": [
    {
     "data": {
      "image/png": "[encoded data removed]",
      "text/plain": [
       "<Figure size 500x400 with 2 Axes>"
      ]
     },
     "metadata": {},
     "output_type": "display_data"
    }
   ],
   "source": [
    "# Confusion matrix\n",
    "cm = confusion_matrix(y_test, y_pred, normalize=\"true\")\n",
    "plt.figure(figsize=(5,4))\n",
    "sns.heatmap(cm, annot=True, fmt=\" .2f\", cmap=\"Blues\",\n",
    "            xticklabels=[\"No Diabetes\", \"Diabetes\"],\n",
    "            yticklabels=[\"No Diabetes\", \"Diabetes\"])\n",
    "\n",
    "# disp = ConfusionMatrixDisplay(confusion_matrix=cm)\n",
    "# disp.plot(cmap=\"Blues\", values_format=\".2f\")\n",
    "\n",
    "plt.xlabel(\"Predicted\")\n",
    "plt.ylabel(\"Actual\")\n",
    "plt.title(\"Confusion Matrix\")\n",
    "plt.tight_layout()\n",
    "plt.grid(False)\n",
    "plt.savefig(\"../reports/xgboost_confusion_matrix.png\")\n",
    "plt.show()"
   ]
  },
  {
   "cell_type": "code",
   "execution_count": 24,
   "id": "a5e4d12f",
   "metadata": {},
   "outputs": [
    {
     "name": "stdout",
     "output_type": "stream",
     "text": [
      "y_probs shape: (91682,)\n",
      "y_test shape: (91682,)\n"
     ]
    },
    {
     "data": {
      "image/png": "[encoded data removed]",
      "text/plain": [
       "<Figure size 600x400 with 1 Axes>"
      ]
     },
     "metadata": {},
     "output_type": "display_data"
    }
   ],
   "source": [
    "# Get predicted probabilities for the positve class (diabetes)\n",
    "y_probs = model.predict_proba(X_test)[:, 1]\n",
    "\n",
    "print(f\"y_probs shape: {y_probs.shape}\")\n",
    "print(f\"y_test shape: {y_test.shape}\")\n",
    "\n",
    "# # Precision-Recall Curve\n",
    "precision, recall, thresholds = precision_recall_curve(y_test, y_probs)\n",
    "# avg_precision = average_precision_score(y_true, y_probs)\n",
    "\n",
    "plt.figure(figsize=(6, 4))\n",
    "plt.plot(recall, precision, label=f\"Precision\")\n",
    "plt.xlabel(\"Recall\")\n",
    "plt.ylabel(\"Precision\")\n",
    "plt.title(\"Precision-Recall at Various Thresholds\")\n",
    "plt.legend()\n",
    "plt.grid(True)\n",
    "plt.tight_layout()\n",
    "plt.show()"
   ]
  },
  {
   "cell_type": "markdown",
   "id": "de9245e9",
   "metadata": {},
   "source": [
    "## End"
   ]
  },
  {
   "cell_type": "code",
   "execution_count": 25,
   "id": "89d8137d",
   "metadata": {},
   "outputs": [
    {
     "name": "stdout",
     "output_type": "stream",
     "text": [
      "Notebook time: 1.41 minutes\n"
     ]
    }
   ],
   "source": [
    "time_spent = (time.time() - start_time) / 60 \n",
    "\n",
    "print(f\"Notebook time: {time_spent:.2f} minutes\")"
   ]
  }
 ],
 "metadata": {
  "kernelspec": {
   "display_name": "Python 3",
   "language": "python",
   "name": "python3"
  },
  "language_info": {
   "codemirror_mode": {
    "name": "ipython",
    "version": 3
   },
   "file_extension": ".py",
   "mimetype": "text/x-python",
   "name": "python",
   "nbconvert_exporter": "python",
   "pygments_lexer": "ipython3",
   "version": "3.11.13"
  }
 },
 "nbformat": 4,
 "nbformat_minor": 5
}
