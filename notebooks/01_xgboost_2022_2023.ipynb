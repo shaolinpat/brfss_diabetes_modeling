{
 "cells": [
  {
   "cell_type": "markdown",
   "id": "fe354b1b",
   "metadata": {},
   "source": [
    "# Examine"
   ]
  },
  {
   "cell_type": "markdown",
   "id": "25ea303e",
   "metadata": {},
   "source": [
    "## Imports and Globals"
   ]
  },
  {
   "cell_type": "code",
   "execution_count": 1,
   "id": "87fefb3c",
   "metadata": {},
   "outputs": [],
   "source": [
    "%matplotlib inline\n",
    "\n",
    "\n",
    "import matplotlib.pyplot as plt\n",
    "import numpy as np\n",
    "import pandas as pd\n",
    "import seaborn as sns\n",
    "import time\n",
    "import xgboost as xgb\n",
    "\n",
    "from pathlib import Path\n",
    "from sklearn.metrics import (\n",
    "    classification_report,\n",
    "    confusion_matrix,\n",
    "    ConfusionMatrixDisplay,\n",
    "    precision_recall_curve,\n",
    ")\n",
    "from sklearn.model_selection import train_test_split"
   ]
  },
  {
   "cell_type": "code",
   "execution_count": 2,
   "id": "29139a73",
   "metadata": {},
   "outputs": [],
   "source": [
    "# Globals\n",
    "SEED = 22\n",
    "start_time = time.time()"
   ]
  },
  {
   "cell_type": "markdown",
   "id": "875c3475",
   "metadata": {},
   "source": [
    "## Load data"
   ]
  },
  {
   "cell_type": "code",
   "execution_count": 3,
   "id": "d9adc20b",
   "metadata": {},
   "outputs": [
    {
     "name": "stdout",
     "output_type": "stream",
     "text": [
      "Loading ../data/cleaned/brfss_cleaned_2022.csv\n",
      "Loading ../data/cleaned/brfss_cleaned_2023.csv\n",
      "Merged shape: (876384, 12)\n"
     ]
    },
    {
     "data": {
      "text/html": [
       "<div>\n",
       "<style scoped>\n",
       "    .dataframe tbody tr th:only-of-type {\n",
       "        vertical-align: middle;\n",
       "    }\n",
       "\n",
       "    .dataframe tbody tr th {\n",
       "        vertical-align: top;\n",
       "    }\n",
       "\n",
       "    .dataframe thead th {\n",
       "        text-align: right;\n",
       "    }\n",
       "</style>\n",
       "<table border=\"1\" class=\"dataframe\">\n",
       "  <thead>\n",
       "    <tr style=\"text-align: right;\">\n",
       "      <th></th>\n",
       "      <th>year</th>\n",
       "      <th>age</th>\n",
       "      <th>sex</th>\n",
       "      <th>educa</th>\n",
       "      <th>bmi</th>\n",
       "      <th>bmi_cat</th>\n",
       "      <th>drink_any</th>\n",
       "      <th>snap_used</th>\n",
       "      <th>food_insecurity</th>\n",
       "      <th>smoke_100</th>\n",
       "      <th>exercise_any</th>\n",
       "      <th>diabetes</th>\n",
       "    </tr>\n",
       "  </thead>\n",
       "  <tbody>\n",
       "    <tr>\n",
       "      <th>0</th>\n",
       "      <td>2023</td>\n",
       "      <td>85.0</td>\n",
       "      <td>Female</td>\n",
       "      <td>Some college</td>\n",
       "      <td>30.47</td>\n",
       "      <td>Obese</td>\n",
       "      <td>No</td>\n",
       "      <td>No</td>\n",
       "      <td>Never</td>\n",
       "      <td>No</td>\n",
       "      <td>No</td>\n",
       "      <td>Yes</td>\n",
       "    </tr>\n",
       "    <tr>\n",
       "      <th>1</th>\n",
       "      <td>2023</td>\n",
       "      <td>85.0</td>\n",
       "      <td>Female</td>\n",
       "      <td>Some college</td>\n",
       "      <td>28.56</td>\n",
       "      <td>Overweight</td>\n",
       "      <td>No</td>\n",
       "      <td>No</td>\n",
       "      <td>Never</td>\n",
       "      <td>No</td>\n",
       "      <td>Yes</td>\n",
       "      <td>No</td>\n",
       "    </tr>\n",
       "    <tr>\n",
       "      <th>2</th>\n",
       "      <td>2023</td>\n",
       "      <td>85.0</td>\n",
       "      <td>Female</td>\n",
       "      <td>HS or GED</td>\n",
       "      <td>22.31</td>\n",
       "      <td>Normal</td>\n",
       "      <td>No</td>\n",
       "      <td>No</td>\n",
       "      <td>Never</td>\n",
       "      <td>Yes</td>\n",
       "      <td>Yes</td>\n",
       "      <td>No</td>\n",
       "    </tr>\n",
       "    <tr>\n",
       "      <th>3</th>\n",
       "      <td>2023</td>\n",
       "      <td>77.0</td>\n",
       "      <td>Female</td>\n",
       "      <td>Some college</td>\n",
       "      <td>27.44</td>\n",
       "      <td>Overweight</td>\n",
       "      <td>No</td>\n",
       "      <td>No</td>\n",
       "      <td>Never</td>\n",
       "      <td>No</td>\n",
       "      <td>Yes</td>\n",
       "      <td>No</td>\n",
       "    </tr>\n",
       "    <tr>\n",
       "      <th>4</th>\n",
       "      <td>2023</td>\n",
       "      <td>77.0</td>\n",
       "      <td>Female</td>\n",
       "      <td>Some college</td>\n",
       "      <td>25.85</td>\n",
       "      <td>Overweight</td>\n",
       "      <td>Yes</td>\n",
       "      <td>No</td>\n",
       "      <td>Rarely</td>\n",
       "      <td>No</td>\n",
       "      <td>Yes</td>\n",
       "      <td>Yes</td>\n",
       "    </tr>\n",
       "  </tbody>\n",
       "</table>\n",
       "</div>"
      ],
      "text/plain": [
       "   year   age     sex         educa    bmi     bmi_cat drink_any snap_used  \\\n",
       "0  2023  85.0  Female  Some college  30.47       Obese        No        No   \n",
       "1  2023  85.0  Female  Some college  28.56  Overweight        No        No   \n",
       "2  2023  85.0  Female     HS or GED  22.31      Normal        No        No   \n",
       "3  2023  77.0  Female  Some college  27.44  Overweight        No        No   \n",
       "4  2023  77.0  Female  Some college  25.85  Overweight       Yes        No   \n",
       "\n",
       "  food_insecurity smoke_100 exercise_any diabetes  \n",
       "0           Never        No           No      Yes  \n",
       "1           Never        No          Yes       No  \n",
       "2           Never       Yes          Yes       No  \n",
       "3           Never        No          Yes       No  \n",
       "4          Rarely        No          Yes      Yes  "
      ]
     },
     "execution_count": 3,
     "metadata": {},
     "output_type": "execute_result"
    }
   ],
   "source": [
    "data_dir = Path(\"../data/cleaned\")\n",
    "years = [2022, 2023]\n",
    "\n",
    "dfs = []\n",
    "for year in years:\n",
    "    file = data_dir / f\"brfss_cleaned_{year}.csv\"\n",
    "    print(f\"Loading {file}\")\n",
    "    df = pd.read_csv(file)\n",
    "    dfs.append(df)\n",
    "\n",
    "df_all = pd.concat(dfs, ignore_index=True)\n",
    "print(f\"Merged shape: {df_all.shape}\")\n",
    "df.head()"
   ]
  },
  {
   "cell_type": "markdown",
   "id": "6135ef4e",
   "metadata": {},
   "source": [
    "## Quick EDA"
   ]
  },
  {
   "cell_type": "code",
   "execution_count": 4,
   "id": "67111514",
   "metadata": {},
   "outputs": [],
   "source": [
    "# # Check target class balance\n",
    "# print(df_all[\"diabetes\"].value_counts())\n",
    "# print(df_all[\"diabetes\"].value_counts(normalize=True))"
   ]
  },
  {
   "cell_type": "code",
   "execution_count": 5,
   "id": "0f45f3ef",
   "metadata": {},
   "outputs": [],
   "source": [
    "# # Count by year\n",
    "# print(df_all.groupby(\"year\")[\"diabetes\"].value_counts(normalize=True))"
   ]
  },
  {
   "cell_type": "code",
   "execution_count": 6,
   "id": "3a2ed2db",
   "metadata": {},
   "outputs": [],
   "source": [
    "# sns.countplot(data=df_all, x=\"year\", hue=\"diabetes\")\n",
    "# plt.title(\"Diabetes prevalence by year\")\n",
    "# plt.show()"
   ]
  },
  {
   "cell_type": "markdown",
   "id": "3303486a",
   "metadata": {},
   "source": [
    "## Baseline model"
   ]
  },
  {
   "cell_type": "markdown",
   "id": "20dbebf4",
   "metadata": {},
   "source": [
    "### Preprocessing"
   ]
  },
  {
   "cell_type": "code",
   "execution_count": 7,
   "id": "7a9de8cf",
   "metadata": {},
   "outputs": [],
   "source": [
    "df_model = df_all.copy()\n",
    "\n",
    "# Features and target\n",
    "features = [\n",
    "    \"year\", \"age\", \"sex\", \"educa\", \"bmi\", \"bmi_cat\", \"drink_any\", \"snap_used\",\n",
    "    \"food_insecurity\", \"smoke_100\", \"exercise_any\"\n",
    "]\n",
    "\n",
    "target = \"diabetes\"\n",
    "\n",
    "df_model = df_model[features + [target]].copy()\n",
    "\n",
    "\n",
    "### Convert binary and categorical vars\n",
    "binary_cols = [\"smoke_100\", \"exercise_any\", \"diabetes\", \"drink_any\", \"snap_used\"]\n",
    "for col in binary_cols:\n",
    "    df_model[col] = df_model[col].astype(str).str.strip().str.replace('\"', '').map({\"Yes\": 1, \"No\": 0})"
   ]
  },
  {
   "cell_type": "code",
   "execution_count": 8,
   "id": "8356d4a2",
   "metadata": {},
   "outputs": [
    {
     "name": "stdout",
     "output_type": "stream",
     "text": [
      "['year', 'age', 'bmi', 'drink_any', 'snap_used', 'smoke_100', 'exercise_any', 'diabetes', 'sex_Male', 'educa_HS or GED', 'educa_Less than HS', 'educa_Some college', 'bmi_cat_Obese', 'bmi_cat_Overweight', 'bmi_cat_Underweight', 'food_insecurity_Never', 'food_insecurity_Rarely', 'food_insecurity_Sometimes', 'food_insecurity_Usually']\n",
      "Any NaNs in X? True\n"
     ]
    },
    {
     "data": {
      "text/html": [
       "<div>\n",
       "<style scoped>\n",
       "    .dataframe tbody tr th:only-of-type {\n",
       "        vertical-align: middle;\n",
       "    }\n",
       "\n",
       "    .dataframe tbody tr th {\n",
       "        vertical-align: top;\n",
       "    }\n",
       "\n",
       "    .dataframe thead th {\n",
       "        text-align: right;\n",
       "    }\n",
       "</style>\n",
       "<table border=\"1\" class=\"dataframe\">\n",
       "  <thead>\n",
       "    <tr style=\"text-align: right;\">\n",
       "      <th></th>\n",
       "      <th>year</th>\n",
       "      <th>age</th>\n",
       "      <th>bmi</th>\n",
       "      <th>drink_any</th>\n",
       "      <th>snap_used</th>\n",
       "      <th>smoke_100</th>\n",
       "      <th>exercise_any</th>\n",
       "      <th>diabetes</th>\n",
       "      <th>sex_Male</th>\n",
       "      <th>educa_HS or GED</th>\n",
       "      <th>educa_Less than HS</th>\n",
       "      <th>educa_Some college</th>\n",
       "      <th>bmi_cat_Obese</th>\n",
       "      <th>bmi_cat_Overweight</th>\n",
       "      <th>bmi_cat_Underweight</th>\n",
       "      <th>food_insecurity_Never</th>\n",
       "      <th>food_insecurity_Rarely</th>\n",
       "      <th>food_insecurity_Sometimes</th>\n",
       "      <th>food_insecurity_Usually</th>\n",
       "    </tr>\n",
       "  </thead>\n",
       "  <tbody>\n",
       "    <tr>\n",
       "      <th>0</th>\n",
       "      <td>2022</td>\n",
       "      <td>85.0</td>\n",
       "      <td>NaN</td>\n",
       "      <td>0.0</td>\n",
       "      <td>0.0</td>\n",
       "      <td>0.0</td>\n",
       "      <td>0.0</td>\n",
       "      <td>1</td>\n",
       "      <td>False</td>\n",
       "      <td>False</td>\n",
       "      <td>False</td>\n",
       "      <td>False</td>\n",
       "      <td>False</td>\n",
       "      <td>False</td>\n",
       "      <td>False</td>\n",
       "      <td>True</td>\n",
       "      <td>False</td>\n",
       "      <td>False</td>\n",
       "      <td>False</td>\n",
       "    </tr>\n",
       "    <tr>\n",
       "      <th>1</th>\n",
       "      <td>2022</td>\n",
       "      <td>85.0</td>\n",
       "      <td>26.57</td>\n",
       "      <td>0.0</td>\n",
       "      <td>0.0</td>\n",
       "      <td>0.0</td>\n",
       "      <td>0.0</td>\n",
       "      <td>0</td>\n",
       "      <td>False</td>\n",
       "      <td>True</td>\n",
       "      <td>False</td>\n",
       "      <td>False</td>\n",
       "      <td>False</td>\n",
       "      <td>True</td>\n",
       "      <td>False</td>\n",
       "      <td>True</td>\n",
       "      <td>False</td>\n",
       "      <td>False</td>\n",
       "      <td>False</td>\n",
       "    </tr>\n",
       "    <tr>\n",
       "      <th>2</th>\n",
       "      <td>2022</td>\n",
       "      <td>57.0</td>\n",
       "      <td>25.61</td>\n",
       "      <td>0.0</td>\n",
       "      <td>0.0</td>\n",
       "      <td>0.0</td>\n",
       "      <td>1.0</td>\n",
       "      <td>0</td>\n",
       "      <td>False</td>\n",
       "      <td>False</td>\n",
       "      <td>False</td>\n",
       "      <td>False</td>\n",
       "      <td>False</td>\n",
       "      <td>True</td>\n",
       "      <td>False</td>\n",
       "      <td>True</td>\n",
       "      <td>False</td>\n",
       "      <td>False</td>\n",
       "      <td>False</td>\n",
       "    </tr>\n",
       "    <tr>\n",
       "      <th>3</th>\n",
       "      <td>2022</td>\n",
       "      <td>NaN</td>\n",
       "      <td>23.30</td>\n",
       "      <td>0.0</td>\n",
       "      <td>0.0</td>\n",
       "      <td>1.0</td>\n",
       "      <td>1.0</td>\n",
       "      <td>0</td>\n",
       "      <td>False</td>\n",
       "      <td>True</td>\n",
       "      <td>False</td>\n",
       "      <td>False</td>\n",
       "      <td>False</td>\n",
       "      <td>False</td>\n",
       "      <td>False</td>\n",
       "      <td>True</td>\n",
       "      <td>False</td>\n",
       "      <td>False</td>\n",
       "      <td>False</td>\n",
       "    </tr>\n",
       "    <tr>\n",
       "      <th>4</th>\n",
       "      <td>2022</td>\n",
       "      <td>42.0</td>\n",
       "      <td>21.77</td>\n",
       "      <td>1.0</td>\n",
       "      <td>0.0</td>\n",
       "      <td>0.0</td>\n",
       "      <td>1.0</td>\n",
       "      <td>0</td>\n",
       "      <td>False</td>\n",
       "      <td>False</td>\n",
       "      <td>False</td>\n",
       "      <td>True</td>\n",
       "      <td>False</td>\n",
       "      <td>False</td>\n",
       "      <td>False</td>\n",
       "      <td>True</td>\n",
       "      <td>False</td>\n",
       "      <td>False</td>\n",
       "      <td>False</td>\n",
       "    </tr>\n",
       "  </tbody>\n",
       "</table>\n",
       "</div>"
      ],
      "text/plain": [
       "   year   age    bmi  drink_any  snap_used  smoke_100  exercise_any  diabetes  \\\n",
       "0  2022  85.0    NaN        0.0        0.0        0.0           0.0         1   \n",
       "1  2022  85.0  26.57        0.0        0.0        0.0           0.0         0   \n",
       "2  2022  57.0  25.61        0.0        0.0        0.0           1.0         0   \n",
       "3  2022   NaN  23.30        0.0        0.0        1.0           1.0         0   \n",
       "4  2022  42.0  21.77        1.0        0.0        0.0           1.0         0   \n",
       "\n",
       "   sex_Male  educa_HS or GED  educa_Less than HS  educa_Some college  \\\n",
       "0     False            False               False               False   \n",
       "1     False             True               False               False   \n",
       "2     False            False               False               False   \n",
       "3     False             True               False               False   \n",
       "4     False            False               False                True   \n",
       "\n",
       "   bmi_cat_Obese  bmi_cat_Overweight  bmi_cat_Underweight  \\\n",
       "0          False               False                False   \n",
       "1          False                True                False   \n",
       "2          False                True                False   \n",
       "3          False               False                False   \n",
       "4          False               False                False   \n",
       "\n",
       "   food_insecurity_Never  food_insecurity_Rarely  food_insecurity_Sometimes  \\\n",
       "0                   True                   False                      False   \n",
       "1                   True                   False                      False   \n",
       "2                   True                   False                      False   \n",
       "3                   True                   False                      False   \n",
       "4                   True                   False                      False   \n",
       "\n",
       "   food_insecurity_Usually  \n",
       "0                    False  \n",
       "1                    False  \n",
       "2                    False  \n",
       "3                    False  \n",
       "4                    False  "
      ]
     },
     "execution_count": 8,
     "metadata": {},
     "output_type": "execute_result"
    }
   ],
   "source": [
    "### Convert categorical strings to dummy vars\n",
    "df_model = pd.get_dummies(df_model, columns=[\"sex\", \"educa\", \"bmi_cat\", \n",
    "                                             \"food_insecurity\"], drop_first=True)\n",
    "\n",
    "print(df_model.columns.tolist())\n",
    "print(\"Any NaNs in X?\", df_model.drop(columns=[\"diabetes\"]).isna().any().any())\n",
    "df_model.head()"
   ]
  },
  {
   "cell_type": "code",
   "execution_count": 9,
   "id": "a8b613ae",
   "metadata": {},
   "outputs": [
    {
     "name": "stdout",
     "output_type": "stream",
     "text": [
      "Before split: (876384, 19)\n",
      "After dropping NA: (433342, 19)\n"
     ]
    }
   ],
   "source": [
    "print(\"Before split:\", df_model.shape)\n",
    "\n",
    "features = [f for f in features if f in df_model.columns]\n",
    "# Drop rows with missing values in selected features or target\n",
    "df_model = df_model.dropna(subset=features + [target])\n",
    "\n",
    "print(\"After dropping NA:\", df_model.shape)"
   ]
  },
  {
   "cell_type": "code",
   "execution_count": 10,
   "id": "7401bcdf",
   "metadata": {},
   "outputs": [],
   "source": [
    "# Split features and target\n",
    "X = df_model.drop(columns=[\"diabetes\"])\n",
    "y = df_model[\"diabetes\"]"
   ]
  },
  {
   "cell_type": "markdown",
   "id": "e31c699b",
   "metadata": {},
   "source": [
    "## Train/Test Split"
   ]
  },
  {
   "cell_type": "code",
   "execution_count": 11,
   "id": "cfe1af1f",
   "metadata": {},
   "outputs": [
    {
     "name": "stdout",
     "output_type": "stream",
     "text": [
      "(346673, 18) (86669, 18)\n"
     ]
    }
   ],
   "source": [
    "X_train, X_test, y_train, y_test = train_test_split(\n",
    "    X, y, test_size=0.2, stratify=y, random_state=SEED\n",
    ")\n",
    "print(X_train.shape, X_test.shape)"
   ]
  },
  {
   "cell_type": "markdown",
   "id": "87484b83",
   "metadata": {},
   "source": [
    "## Baseline Model"
   ]
  },
  {
   "cell_type": "code",
   "execution_count": 12,
   "id": "f70786fb",
   "metadata": {},
   "outputs": [
    {
     "name": "stdout",
     "output_type": "stream",
     "text": [
      "Negative: 294947, positive: 51726\n",
      "Negative: 294947, positive: 51726, scale: 5.70\n",
      "y_test shape: (86669,)\n",
      "y_pred shape: (86669,)\n"
     ]
    }
   ],
   "source": [
    "neg, pos = np.bincount(y_train)\n",
    "print(f\"Negative: {neg}, positive: {pos}\")\n",
    "scale = neg / pos\n",
    "print(f\"Negative: {neg}, positive: {pos}, scale: {scale:.2f}\")\n",
    "\n",
    "model = xgb.XGBClassifier(\n",
    "    # use_label_encoder=False,\n",
    "    eval_metric=\"logloss\",\n",
    "    scale_pos_weight=scale,\n",
    "    n_estimators=100,\n",
    "    max_depth=4,\n",
    "    learning_rate=0.1,\n",
    "    random_state=SEED\n",
    ")\n",
    "model.fit(X_train, y_train)\n",
    "y_pred = model.predict(X_test)\n",
    "print(f\"y_test shape: {y_test.shape}\")\n",
    "print(f\"y_pred shape: {y_pred.shape}\")"
   ]
  },
  {
   "cell_type": "markdown",
   "id": "0723b346",
   "metadata": {},
   "source": [
    "## Evaluation"
   ]
  },
  {
   "cell_type": "code",
   "execution_count": 13,
   "id": "9e3fd6e4",
   "metadata": {},
   "outputs": [
    {
     "name": "stdout",
     "output_type": "stream",
     "text": [
      "\n",
      "Classification Report(Baseline XGBoost):\n",
      "              precision    recall  f1-score   support\n",
      "\n",
      "           0      0.936     0.658     0.773     73738\n",
      "           1      0.276     0.742     0.402     12931\n",
      "\n",
      "    accuracy                          0.671     86669\n",
      "   macro avg      0.606     0.700     0.588     86669\n",
      "weighted avg      0.837     0.671     0.718     86669\n",
      "\n"
     ]
    }
   ],
   "source": [
    "print(\"\\nClassification Report(Baseline XGBoost):\")\n",
    "print(classification_report(y_test, y_pred, digits=3))"
   ]
  },
  {
   "cell_type": "markdown",
   "id": "489f5049",
   "metadata": {},
   "source": [
    "### Visualizations"
   ]
  },
  {
   "cell_type": "code",
   "execution_count": 14,
   "id": "0b02a258",
   "metadata": {},
   "outputs": [],
   "source": [
    "# y_true = df_model[\"diabetes\"]\n",
    "# y_probs = model.predict_proba(X)[:, 1]\n",
    "\n",
    "# # ROC Curve\n",
    "# fpr, tpr, thresholds_roc = roc_curve(y_true, y_probs)\n",
    "# roc_auc = roc_auc_score(y_true, y_probs)\n",
    "\n",
    "# plt.figure()\n",
    "# plt.plot(fpr, tpr, label=f\"AUC + {roc_auc:.2f}\")\n",
    "# plt.plot([0, 1], [0, 1], linestyle=\"--\", color=\"gray\")\n",
    "# plt.xlabel(\"False Positive Rate\")\n",
    "# plt.ylabel(\"True Positive Rate (Recall)\")\n",
    "# plt.title(\"ROC Curve\")\n",
    "# plt.legend()\n",
    "# plt.grid(True)\n",
    "# plt.show()"
   ]
  },
  {
   "cell_type": "code",
   "execution_count": 15,
   "id": "4147e911",
   "metadata": {},
   "outputs": [
    {
     "name": "stdout",
     "output_type": "stream",
     "text": [
      "              precision    recall  f1-score   support\n",
      "\n",
      "           0      0.936     0.658     0.773     73738\n",
      "           1      0.276     0.742     0.402     12931\n",
      "\n",
      "    accuracy                          0.671     86669\n",
      "   macro avg      0.606     0.700     0.588     86669\n",
      "weighted avg      0.837     0.671     0.718     86669\n",
      "\n",
      "y_test shape: (86669,)\n",
      "y_pred shape: (86669,)\n"
     ]
    }
   ],
   "source": [
    "print(classification_report(y_test, y_pred, digits=3))\n",
    "print(f\"y_test shape: {y_test.shape}\")\n",
    "print(f\"y_pred shape: {y_pred.shape}\")"
   ]
  },
  {
   "cell_type": "code",
   "execution_count": 16,
   "id": "f3d461d4",
   "metadata": {},
   "outputs": [
    {
     "data": {
      "image/png": "[encoded data removed]",
      "text/plain": [
       "<Figure size 500x400 with 2 Axes>"
      ]
     },
     "metadata": {},
     "output_type": "display_data"
    }
   ],
   "source": [
    "# Confusion matrix\n",
    "cm = confusion_matrix(y_test, y_pred, normalize=\"true\")\n",
    "plt.figure(figsize=(5,4))\n",
    "sns.heatmap(cm, annot=True, fmt=\" .2f\", cmap=\"Blues\",\n",
    "            xticklabels=[\"No Diabetes\", \"Diabetes\"],\n",
    "            yticklabels=[\"No Diabetes\", \"Diabetes\"])\n",
    "\n",
    "# disp = ConfusionMatrixDisplay(confusion_matrix=cm)\n",
    "# disp.plot(cmap=\"Blues\", values_format=\".2f\")\n",
    "\n",
    "plt.xlabel(\"Predicted\")\n",
    "plt.ylabel(\"Actual\")\n",
    "plt.title(\"Confusion Matrix\")\n",
    "plt.tight_layout()\n",
    "plt.grid(False)\n",
    "plt.savefig(\"../reports/xgboost_confusion_matrix.png\")\n",
    "plt.show()"
   ]
  },
  {
   "cell_type": "code",
   "execution_count": 17,
   "id": "a5e4d12f",
   "metadata": {},
   "outputs": [
    {
     "name": "stdout",
     "output_type": "stream",
     "text": [
      "y_probs shape: (86669,)\n",
      "y_test shape: (86669,)\n"
     ]
    },
    {
     "data": {
      "image/png": "[encoded data removed]",
      "text/plain": [
       "<Figure size 600x400 with 1 Axes>"
      ]
     },
     "metadata": {},
     "output_type": "display_data"
    }
   ],
   "source": [
    "# Get predicted probabilities for the positve class (diabetes)\n",
    "y_probs = model.predict_proba(X_test)[:, 1]\n",
    "\n",
    "print(f\"y_probs shape: {y_probs.shape}\")\n",
    "print(f\"y_test shape: {y_test.shape}\")\n",
    "\n",
    "# # Precision-Recall Curve\n",
    "precision, recall, thresholds = precision_recall_curve(y_test, y_probs)\n",
    "# avg_precision = average_precision_score(y_true, y_probs)\n",
    "\n",
    "plt.figure(figsize=(6, 4))\n",
    "plt.plot(recall, precision, label=f\"Precision\")\n",
    "plt.xlabel(\"Recall\")\n",
    "plt.ylabel(\"Precision\")\n",
    "plt.title(\"Precision-Recall at Various Thresholds\")\n",
    "plt.legend()\n",
    "plt.grid(True)\n",
    "plt.tight_layout()\n",
    "plt.show()"
   ]
  },
  {
   "cell_type": "code",
   "execution_count": 18,
   "id": "94cab427",
   "metadata": {},
   "outputs": [],
   "source": [
    "# # Threshold tuning table\n",
    "# threshold_data = pd.DataFrame({\n",
    "#     \"threshold\": thresholds_pr,\n",
    "#     \"precision\": precision[:-1],\n",
    "#     \"recall\": recall[:-1]\n",
    "# })\n",
    "\n",
    "# threshold_data.head(20)"
   ]
  },
  {
   "cell_type": "code",
   "execution_count": 19,
   "id": "21e96a8c",
   "metadata": {},
   "outputs": [],
   "source": [
    "# precision_vals, recall_vals, thresholds_pr = precision_recall_curve(y_true, y_probs)\n",
    "\n",
    "# threshold_data = pd.DataFrame({\n",
    "#     \"threshold\": thresholds_pr,\n",
    "#     \"precision\": precision_vals[:-1],\n",
    "#     \"recall\": recall_vals[:-1]\n",
    "# })\n",
    "\n",
    "# # Filter to better tradeoffs\n",
    "# threshold_data_filtered = threshold_data[\n",
    "#     (threshold_data[\"precision\"] > 0.3) & (threshold_data[\"recall\"] > 0.4)\n",
    "# ].reset_index(drop=True)\n",
    "\n",
    "# threshold_data_filtered.head(20)"
   ]
  },
  {
   "cell_type": "code",
   "execution_count": 20,
   "id": "74cef3d4",
   "metadata": {},
   "outputs": [],
   "source": [
    "# threshold = 0.59285\n",
    "# y_pred_thresh = (y_probs >= threshold).astype(int)\n",
    "\n",
    "# print(f\"Threshold: {threshold}\")\n",
    "# print(classification_report(y_true, y_pred_thresh))\n",
    "\n",
    "# # Show confusion matrix\n",
    "# cm = confusion_matrix(y_true, y_pred_thresh, normalize=\"true\")\n",
    "# disp = ConfusionMatrixDisplay(confusion_matrix=cm)\n",
    "# disp.plot(cmap=\"Blues\", values_format=\".2f\")\n",
    "# plt.title(f\"Confusion Matrix at Threshold = {threshold:.5f}\")\n",
    "# plt.grid(False)\n",
    "# plt.show()"
   ]
  },
  {
   "cell_type": "markdown",
   "id": "de9245e9",
   "metadata": {},
   "source": [
    "## End"
   ]
  },
  {
   "cell_type": "code",
   "execution_count": 21,
   "id": "89d8137d",
   "metadata": {},
   "outputs": [
    {
     "name": "stdout",
     "output_type": "stream",
     "text": [
      "Notebook time: 0.08 minutes\n"
     ]
    }
   ],
   "source": [
    "time_spent = (time.time() - start_time) / 60 \n",
    "\n",
    "print(f\"Notebook time: {time_spent:.2f} minutes\")"
   ]
  }
 ],
 "metadata": {
  "kernelspec": {
   "display_name": "brfss_env",
   "language": "python",
   "name": "python3"
  },
  "language_info": {
   "codemirror_mode": {
    "name": "ipython",
    "version": 3
   },
   "file_extension": ".py",
   "mimetype": "text/x-python",
   "name": "python",
   "nbconvert_exporter": "python",
   "pygments_lexer": "ipython3",
   "version": "3.11.13"
  }
 },
 "nbformat": 4,
 "nbformat_minor": 5
}
